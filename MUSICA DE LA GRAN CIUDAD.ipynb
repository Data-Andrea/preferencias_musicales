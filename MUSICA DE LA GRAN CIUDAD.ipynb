{
 "cells": [
  {
   "cell_type": "markdown",
   "metadata": {
    "id": "E0vqbgi9ay0H"
   },
   "source": [
    "# Yandex.Music"
   ]
  },
  {
   "cell_type": "markdown",
   "metadata": {
    "id": "fhq_eyov_Zcs"
   },
   "source": [
    "# Contents <a id='back'></a>\n",
    "\n",
    "* [Introducción](#intro)\n",
    "* [Etapa 1. Descripción de los datos](#data_review)\n",
    "    * [Conclusions](#data_review_conclusions)\n",
    "* [Etapa 2. Data preprocessing](#data_preprocessing)\n",
    "    * [2.1 Estilo del encabezado](#header_style)\n",
    "    * [2.2 Valores ausentes](#missing_values)\n",
    "    * [2.3 Duplicados](#duplicates)\n",
    "    * [2.4 Conclusiones](#data_preprocessing_conclusions)\n",
    "* [Etapa 3. Prueba de hipótesis](#hypotheses)\n",
    "    * [3.1 Hipótesis 1: comparar el comportamiento del usuario en las dos ciudades](#activity)\n",
    "    * [3.2 Hipótesis 2: música al principio y al final de la semana](#week)\n",
    "    * [3.3 Hipótesis 3: preferencias de género en Springfield y Shelbyville](#genre)\n",
    "* [Conclusiones](#end)"
   ]
  },
  {
   "cell_type": "markdown",
   "metadata": {
    "id": "VUC88oWjTJw2"
   },
   "source": [
    "## Introducción <a id='intro'></a>\n",
    "\n",
    "En èste proyecto se analizaràn las preferencias musicales de las ciudades de Springfield y Shelbyville. Se estudiaràn datos reales de Yandex.Music para probar las hipótesis de abajo y comparar el comportamiento del usuario de ambas ciudades.\n",
    "\n",
    "### Objetivo: \n",
    "Comprobar las hipòtesis: \n",
    "1. La actividad de los usuarios difiere según el día de la semana y dependiendo de la ciudad. \n",
    "2. Los lunes por la mañana, los habitantes de Springfield y Shelbyville escuchan diferentes géneros. Lo mismo ocurre con los viernes por la noche. \n",
    "3. Los oyentes de Springfield y Shelbyville tienen preferencias distintas. En Springfield prefieren el pop mientras que en Shelbyville hay más aficionados al rap.\n",
    " \n",
    "[Volver a Contenidos](#back)"
   ]
  },
  {
   "cell_type": "markdown",
   "metadata": {
    "id": "Ml1hmfXC_Zcs"
   },
   "source": [
    "## Etapa 1. Descripción de los datos <a id='data_review'></a>\n",
    "\n",
    "Inicialmente se analizan los datos."
   ]
  },
  {
   "cell_type": "code",
   "execution_count": 1,
   "metadata": {
    "id": "AXN7PHPN_Zcs"
   },
   "outputs": [],
   "source": [
    "import pandas as pd # importando pandas\n"
   ]
  },
  {
   "cell_type": "code",
   "execution_count": 2,
   "metadata": {
    "id": "fFVu7vqh_Zct"
   },
   "outputs": [
    {
     "data": {
      "text/html": [
       "<div>\n",
       "<style scoped>\n",
       "    .dataframe tbody tr th:only-of-type {\n",
       "        vertical-align: middle;\n",
       "    }\n",
       "\n",
       "    .dataframe tbody tr th {\n",
       "        vertical-align: top;\n",
       "    }\n",
       "\n",
       "    .dataframe thead th {\n",
       "        text-align: right;\n",
       "    }\n",
       "</style>\n",
       "<table border=\"1\" class=\"dataframe\">\n",
       "  <thead>\n",
       "    <tr style=\"text-align: right;\">\n",
       "      <th></th>\n",
       "      <th>userID</th>\n",
       "      <th>Track</th>\n",
       "      <th>artist</th>\n",
       "      <th>genre</th>\n",
       "      <th>City</th>\n",
       "      <th>time</th>\n",
       "      <th>Day</th>\n",
       "    </tr>\n",
       "  </thead>\n",
       "  <tbody>\n",
       "    <tr>\n",
       "      <th>count</th>\n",
       "      <td>65079</td>\n",
       "      <td>63736</td>\n",
       "      <td>57512</td>\n",
       "      <td>63881</td>\n",
       "      <td>65079</td>\n",
       "      <td>65079</td>\n",
       "      <td>65079</td>\n",
       "    </tr>\n",
       "    <tr>\n",
       "      <th>unique</th>\n",
       "      <td>41748</td>\n",
       "      <td>39666</td>\n",
       "      <td>37806</td>\n",
       "      <td>268</td>\n",
       "      <td>2</td>\n",
       "      <td>20392</td>\n",
       "      <td>3</td>\n",
       "    </tr>\n",
       "    <tr>\n",
       "      <th>top</th>\n",
       "      <td>A8AE9169</td>\n",
       "      <td>Brand</td>\n",
       "      <td>Kartvelli</td>\n",
       "      <td>pop</td>\n",
       "      <td>Springfield</td>\n",
       "      <td>21:51:22</td>\n",
       "      <td>Friday</td>\n",
       "    </tr>\n",
       "    <tr>\n",
       "      <th>freq</th>\n",
       "      <td>76</td>\n",
       "      <td>136</td>\n",
       "      <td>136</td>\n",
       "      <td>8850</td>\n",
       "      <td>45360</td>\n",
       "      <td>14</td>\n",
       "      <td>23149</td>\n",
       "    </tr>\n",
       "  </tbody>\n",
       "</table>\n",
       "</div>"
      ],
      "text/plain": [
       "          userID  Track     artist  genre       City        time     Day\n",
       "count      65079  63736      57512  63881        65079     65079   65079\n",
       "unique     41748  39666      37806    268            2     20392       3\n",
       "top     A8AE9169  Brand  Kartvelli    pop  Springfield  21:51:22  Friday\n",
       "freq          76    136        136   8850        45360        14   23149"
      ]
     },
     "execution_count": 2,
     "metadata": {},
     "output_type": "execute_result"
    }
   ],
   "source": [
    "df= pd.read_csv( \"/datasets/music_project_en.csv\")# leyendo el archivo y almacenándolo en df\n",
    "df.describe()"
   ]
  },
  {
   "cell_type": "code",
   "execution_count": 3,
   "metadata": {
    "id": "oWTVX3gW_Zct"
   },
   "outputs": [
    {
     "data": {
      "text/html": [
       "<div>\n",
       "<style scoped>\n",
       "    .dataframe tbody tr th:only-of-type {\n",
       "        vertical-align: middle;\n",
       "    }\n",
       "\n",
       "    .dataframe tbody tr th {\n",
       "        vertical-align: top;\n",
       "    }\n",
       "\n",
       "    .dataframe thead th {\n",
       "        text-align: right;\n",
       "    }\n",
       "</style>\n",
       "<table border=\"1\" class=\"dataframe\">\n",
       "  <thead>\n",
       "    <tr style=\"text-align: right;\">\n",
       "      <th></th>\n",
       "      <th>userID</th>\n",
       "      <th>Track</th>\n",
       "      <th>artist</th>\n",
       "      <th>genre</th>\n",
       "      <th>City</th>\n",
       "      <th>time</th>\n",
       "      <th>Day</th>\n",
       "    </tr>\n",
       "  </thead>\n",
       "  <tbody>\n",
       "    <tr>\n",
       "      <th>0</th>\n",
       "      <td>FFB692EC</td>\n",
       "      <td>Kamigata To Boots</td>\n",
       "      <td>The Mass Missile</td>\n",
       "      <td>rock</td>\n",
       "      <td>Shelbyville</td>\n",
       "      <td>20:28:33</td>\n",
       "      <td>Wednesday</td>\n",
       "    </tr>\n",
       "    <tr>\n",
       "      <th>1</th>\n",
       "      <td>55204538</td>\n",
       "      <td>Delayed Because of Accident</td>\n",
       "      <td>Andreas Rönnberg</td>\n",
       "      <td>rock</td>\n",
       "      <td>Springfield</td>\n",
       "      <td>14:07:09</td>\n",
       "      <td>Friday</td>\n",
       "    </tr>\n",
       "    <tr>\n",
       "      <th>2</th>\n",
       "      <td>20EC38</td>\n",
       "      <td>Funiculì funiculà</td>\n",
       "      <td>Mario Lanza</td>\n",
       "      <td>pop</td>\n",
       "      <td>Shelbyville</td>\n",
       "      <td>20:58:07</td>\n",
       "      <td>Wednesday</td>\n",
       "    </tr>\n",
       "    <tr>\n",
       "      <th>3</th>\n",
       "      <td>A3DD03C9</td>\n",
       "      <td>Dragons in the Sunset</td>\n",
       "      <td>Fire + Ice</td>\n",
       "      <td>folk</td>\n",
       "      <td>Shelbyville</td>\n",
       "      <td>08:37:09</td>\n",
       "      <td>Monday</td>\n",
       "    </tr>\n",
       "    <tr>\n",
       "      <th>4</th>\n",
       "      <td>E2DC1FAE</td>\n",
       "      <td>Soul People</td>\n",
       "      <td>Space Echo</td>\n",
       "      <td>dance</td>\n",
       "      <td>Springfield</td>\n",
       "      <td>08:34:34</td>\n",
       "      <td>Monday</td>\n",
       "    </tr>\n",
       "    <tr>\n",
       "      <th>5</th>\n",
       "      <td>842029A1</td>\n",
       "      <td>Chains</td>\n",
       "      <td>Obladaet</td>\n",
       "      <td>rusrap</td>\n",
       "      <td>Shelbyville</td>\n",
       "      <td>13:09:41</td>\n",
       "      <td>Friday</td>\n",
       "    </tr>\n",
       "    <tr>\n",
       "      <th>6</th>\n",
       "      <td>4CB90AA5</td>\n",
       "      <td>True</td>\n",
       "      <td>Roman Messer</td>\n",
       "      <td>dance</td>\n",
       "      <td>Springfield</td>\n",
       "      <td>13:00:07</td>\n",
       "      <td>Wednesday</td>\n",
       "    </tr>\n",
       "    <tr>\n",
       "      <th>7</th>\n",
       "      <td>F03E1C1F</td>\n",
       "      <td>Feeling This Way</td>\n",
       "      <td>Polina Griffith</td>\n",
       "      <td>dance</td>\n",
       "      <td>Springfield</td>\n",
       "      <td>20:47:49</td>\n",
       "      <td>Wednesday</td>\n",
       "    </tr>\n",
       "    <tr>\n",
       "      <th>8</th>\n",
       "      <td>8FA1D3BE</td>\n",
       "      <td>L’estate</td>\n",
       "      <td>Julia Dalia</td>\n",
       "      <td>ruspop</td>\n",
       "      <td>Springfield</td>\n",
       "      <td>09:17:40</td>\n",
       "      <td>Friday</td>\n",
       "    </tr>\n",
       "    <tr>\n",
       "      <th>9</th>\n",
       "      <td>E772D5C0</td>\n",
       "      <td>Pessimist</td>\n",
       "      <td>NaN</td>\n",
       "      <td>dance</td>\n",
       "      <td>Shelbyville</td>\n",
       "      <td>21:20:49</td>\n",
       "      <td>Wednesday</td>\n",
       "    </tr>\n",
       "  </tbody>\n",
       "</table>\n",
       "</div>"
      ],
      "text/plain": [
       "     userID                        Track            artist   genre  \\\n",
       "0  FFB692EC            Kamigata To Boots  The Mass Missile    rock   \n",
       "1  55204538  Delayed Because of Accident  Andreas Rönnberg    rock   \n",
       "2    20EC38            Funiculì funiculà       Mario Lanza     pop   \n",
       "3  A3DD03C9        Dragons in the Sunset        Fire + Ice    folk   \n",
       "4  E2DC1FAE                  Soul People        Space Echo   dance   \n",
       "5  842029A1                       Chains          Obladaet  rusrap   \n",
       "6  4CB90AA5                         True      Roman Messer   dance   \n",
       "7  F03E1C1F             Feeling This Way   Polina Griffith   dance   \n",
       "8  8FA1D3BE                     L’estate       Julia Dalia  ruspop   \n",
       "9  E772D5C0                    Pessimist               NaN   dance   \n",
       "\n",
       "        City        time        Day  \n",
       "0  Shelbyville  20:28:33  Wednesday  \n",
       "1  Springfield  14:07:09     Friday  \n",
       "2  Shelbyville  20:58:07  Wednesday  \n",
       "3  Shelbyville  08:37:09     Monday  \n",
       "4  Springfield  08:34:34     Monday  \n",
       "5  Shelbyville  13:09:41     Friday  \n",
       "6  Springfield  13:00:07  Wednesday  \n",
       "7  Springfield  20:47:49  Wednesday  \n",
       "8  Springfield  09:17:40     Friday  \n",
       "9  Shelbyville  21:20:49  Wednesday  "
      ]
     },
     "execution_count": 3,
     "metadata": {},
     "output_type": "execute_result"
    }
   ],
   "source": [
    "(df.head(10))# obteniendo las 10 primeras filas de la tabla df"
   ]
  },
  {
   "cell_type": "markdown",
   "metadata": {
    "id": "EO73Kwic_Zct"
   },
   "source": [
    "Se obtiene la información general sobre la tabla:"
   ]
  },
  {
   "cell_type": "code",
   "execution_count": 4,
   "metadata": {
    "id": "DSf2kIb-_Zct"
   },
   "outputs": [
    {
     "name": "stdout",
     "output_type": "stream",
     "text": [
      "<class 'pandas.core.frame.DataFrame'>\n",
      "RangeIndex: 65079 entries, 0 to 65078\n",
      "Data columns (total 7 columns):\n",
      " #   Column    Non-Null Count  Dtype \n",
      "---  ------    --------------  ----- \n",
      " 0     userID  65079 non-null  object\n",
      " 1   Track     63736 non-null  object\n",
      " 2   artist    57512 non-null  object\n",
      " 3   genre     63881 non-null  object\n",
      " 4     City    65079 non-null  object\n",
      " 5   time      65079 non-null  object\n",
      " 6   Day       65079 non-null  object\n",
      "dtypes: object(7)\n",
      "memory usage: 3.5+ MB\n",
      "None\n"
     ]
    }
   ],
   "source": [
    "print(df.info()) # obteniendo información general sobre los datos en df"
   ]
  },
  {
   "cell_type": "markdown",
   "metadata": {
    "id": "TaQ2Iwbr_Zct"
   },
   "source": [
    "La tabla contiene siete columnas. Todas almacenan el mismo tipo de datos: objeto.\n",
    "\n",
    "De acuerdo con la documentación:\n",
    "- `'userID'` — identificador del usuario\n",
    "- `'Track'` — título de la pista\n",
    "- `'artist'` — nombre del artista\n",
    "- `'genre'` — género\n",
    "- `'City'` — ciudad del usuario\n",
    "- `'time'` — el periodo de tiempo exacto en que se reprodujo la pista\n",
    "- `'Day'` — día de la semana\n",
    "\n",
    "Podemos ver tres problemas con el estilo en los nombres de las columnas:\n",
    "1. Algunos nombres están en mayúsculas, otros en minúsculas.\n",
    "2. Hay algunos espacios en algunos nombres.\n",
    "3. Se identifican valores ausentes."
   ]
  },
  {
   "cell_type": "markdown",
   "metadata": {
    "id": "MCB6-dXG_Zct"
   },
   "source": [
    "### Conclusiones <a id='data_review_conclusions'></a> \n",
    "\n",
    "Cada fila de la tabla almacena datos de la pista que fue reproducida. Algunas columnas describen la pista en sí: su título, el artista y el género. El resto transmite la información del usuario: la ciudad de la que viene, el tiempo que ha reproducido la pista. \n",
    "\n",
    "Está claro que los datos son suficientes para probar la hipótesis. Sin embargo, hay valores ausentes.\n",
    "\n",
    "Para continuar, necesitamos preprocesar los datos."
   ]
  },
  {
   "cell_type": "markdown",
   "metadata": {
    "id": "3eL__vcwViOi"
   },
   "source": [
    "[Volver a Contenidos](#back)"
   ]
  },
  {
   "cell_type": "markdown",
   "metadata": {
    "id": "SjYF6Ub9_Zct"
   },
   "source": [
    "## Etapa 2. Preprocesamiento de datos <a id='data_preprocessing'></a>"
   ]
  },
  {
   "cell_type": "markdown",
   "metadata": {
    "id": "dIaKXr29_Zct"
   },
   "source": [
    "### Estilo del encabezado <a id='header_style'></a>\n",
    "Se imprime el encabezado de las columnas:"
   ]
  },
  {
   "cell_type": "code",
   "execution_count": 5,
   "metadata": {
    "id": "oKOTdF_Q_Zct"
   },
   "outputs": [
    {
     "name": "stdout",
     "output_type": "stream",
     "text": [
      "Index(['  userID', 'Track', 'artist', 'genre', '  City  ', 'time', 'Day'], dtype='object')\n"
     ]
    }
   ],
   "source": [
    "print(df.columns)# la lista de los nombres de las columnas en la tabla df"
   ]
  },
  {
   "cell_type": "markdown",
   "metadata": {
    "id": "zj5534cv_Zct"
   },
   "source": [
    "Se cambian los nombres de algunas columnas."
   ]
  },
  {
   "cell_type": "code",
   "execution_count": 29,
   "metadata": {
    "id": "ISlFqs5y_Zct"
   },
   "outputs": [],
   "source": [
    "df=df.rename(\n",
    "    columns={\n",
    "        \"  userID\":\"user_id\",\n",
    "        \"Track\":\"track\",\n",
    "        \"  City  \":\"city\",\n",
    "        \"Day\":\"day\"    \n",
    "    }\n",
    ")\n",
    "        "
   ]
  },
  {
   "cell_type": "markdown",
   "metadata": {
    "id": "1dqbh00J_Zct"
   },
   "source": [
    "Se comprueban nuevamente los nombres de las columnas."
   ]
  },
  {
   "cell_type": "code",
   "execution_count": 30,
   "metadata": {
    "id": "d4NOAmTW_Zct"
   },
   "outputs": [
    {
     "data": {
      "text/plain": [
       "Index(['user_id', 'track', 'artist', 'genre', 'city', 'time', 'day'], dtype='object')"
      ]
     },
     "execution_count": 30,
     "metadata": {},
     "output_type": "execute_result"
    }
   ],
   "source": [
    "(df.columns)# comprobando el resultado: la lista de los nombres de las columnas"
   ]
  },
  {
   "cell_type": "markdown",
   "metadata": {
    "id": "xYJk6ksJVpOl"
   },
   "source": [
    "[Volver a Contenidos](#back)"
   ]
  },
  {
   "cell_type": "markdown",
   "metadata": {
    "id": "5ISfbcfY_Zct"
   },
   "source": [
    "### Valores ausentes <a id='missing_values'></a>\n",
    "Se identifican posibles valores ausentes."
   ]
  },
  {
   "cell_type": "code",
   "execution_count": 31,
   "metadata": {
    "id": "RskX29qr_Zct",
    "scrolled": true
   },
   "outputs": [
    {
     "data": {
      "text/plain": [
       "user_id       0\n",
       "track      1262\n",
       "artist     7097\n",
       "genre      1127\n",
       "city          0\n",
       "time          0\n",
       "day           0\n",
       "dtype: int64"
      ]
     },
     "execution_count": 31,
     "metadata": {},
     "output_type": "execute_result"
    }
   ],
   "source": [
    "df.isnull().sum()"
   ]
  },
  {
   "cell_type": "markdown",
   "metadata": {
    "id": "qubhgnlO_Zct"
   },
   "source": [
    "Se identifican valores ausentes en las columnas \"track\",\"astist\" y \"genre\". Los datos ausentes se rellenan con la string \"unknown\"."
   ]
  },
  {
   "cell_type": "code",
   "execution_count": 36,
   "metadata": {
    "id": "KplB5qWs_Zct"
   },
   "outputs": [],
   "source": [
    "columns_to_replace= [\"track\",\"artist\",\"genre\"]\n",
    "for value in columns_to_replace:\n",
    "    df[value]=df[value].fillna(\"unknown\")\n",
    "    # recorriendo los nombres de las columnas y reemplazando los valores ausentes con 'unknown'"
   ]
  },
  {
   "cell_type": "markdown",
   "metadata": {
    "id": "Ilsm-MZo_Zct"
   },
   "source": [
    "Se verifica nuevamente la existencia de valores ausentes."
   ]
  },
  {
   "cell_type": "code",
   "execution_count": 37,
   "metadata": {
    "id": "Tq4nYRX4_Zct"
   },
   "outputs": [
    {
     "data": {
      "text/plain": [
       "user_id    0\n",
       "track      0\n",
       "artist     0\n",
       "genre      0\n",
       "city       0\n",
       "time       0\n",
       "day        0\n",
       "dtype: int64"
      ]
     },
     "execution_count": 37,
     "metadata": {},
     "output_type": "execute_result"
    }
   ],
   "source": [
    "df.isna().sum()# contando valores ausentes"
   ]
  },
  {
   "cell_type": "markdown",
   "metadata": {
    "id": "74ZIBmq9VrsK"
   },
   "source": [
    "[Volver a Contenidos](#back)"
   ]
  },
  {
   "cell_type": "markdown",
   "metadata": {
    "id": "BWKRtBJ3_Zct"
   },
   "source": [
    "### Duplicados <a id='duplicates'></a>\n",
    "Se identifica posible existencia de datos ausentes."
   ]
  },
  {
   "cell_type": "code",
   "execution_count": 38,
   "metadata": {
    "id": "36eES_S0_Zct"
   },
   "outputs": [
    {
     "data": {
      "text/plain": [
       "0"
      ]
     },
     "execution_count": 38,
     "metadata": {},
     "output_type": "execute_result"
    }
   ],
   "source": [
    "df.duplicated().sum()# contando duplicado obvios"
   ]
  },
  {
   "cell_type": "markdown",
   "metadata": {
    "id": "Ot25h6XR_Zct"
   },
   "source": [
    "No se identifican datos duplicados."
   ]
  },
  {
   "cell_type": "markdown",
   "metadata": {
    "id": "eSjWwsOh_Zct"
   },
   "source": [
    "Se imprime una lista de nombres únicos de géneros, ordenados en orden alfabético."
   ]
  },
  {
   "cell_type": "code",
   "execution_count": 41,
   "metadata": {
    "id": "JIUcqzZN_Zct"
   },
   "outputs": [
    {
     "data": {
      "text/plain": [
       "array(['acid', 'acoustic', 'action', 'adult', 'africa', 'afrikaans',\n",
       "       'alternative', 'ambient', 'americana', 'animated', 'anime',\n",
       "       'arabesk', 'arabic', 'arena', 'argentinetango', 'art', 'audiobook',\n",
       "       'avantgarde', 'axé', 'baile', 'balkan', 'beats', 'bigroom',\n",
       "       'black', 'bluegrass', 'blues', 'bollywood', 'bossa', 'brazilian',\n",
       "       'breakbeat', 'breaks', 'broadway', 'cantautori', 'cantopop',\n",
       "       'canzone', 'caribbean', 'caucasian', 'celtic', 'chamber',\n",
       "       'children', 'chill', 'chinese', 'choral', 'christian', 'christmas',\n",
       "       'classical', 'classicmetal', 'club', 'colombian', 'comedy',\n",
       "       'conjazz', 'contemporary', 'country', 'cuban', 'dance',\n",
       "       'dancehall', 'dancepop', 'dark', 'death', 'deep', 'deutschrock',\n",
       "       'deutschspr', 'dirty', 'disco', 'dnb', 'documentary', 'downbeat',\n",
       "       'downtempo', 'drum', 'dub', 'dubstep', 'eastern', 'easy',\n",
       "       'electronic', 'electropop', 'emo', 'entehno', 'epicmetal',\n",
       "       'estrada', 'ethnic', 'eurofolk', 'european', 'experimental',\n",
       "       'extrememetal', 'fado', 'film', 'fitness', 'flamenco', 'folk',\n",
       "       'folklore', 'folkmetal', 'folkrock', 'folktronica', 'forró',\n",
       "       'frankreich', 'französisch', 'french', 'funk', 'future', 'gangsta',\n",
       "       'garage', 'german', 'ghazal', 'gitarre', 'glitch', 'gospel',\n",
       "       'gothic', 'grime', 'grunge', 'gypsy', 'handsup', \"hard'n'heavy\",\n",
       "       'hardcore', 'hardstyle', 'hardtechno', 'hiphop', 'historisch',\n",
       "       'holiday', 'horror', 'house', 'idm', 'independent', 'indian',\n",
       "       'indie', 'indipop', 'industrial', 'inspirational', 'instrumental',\n",
       "       'international', 'irish', 'jam', 'japanese', 'jazz', 'jewish',\n",
       "       'jpop', 'jungle', 'k-pop', 'karadeniz', 'karaoke', 'kayokyoku',\n",
       "       'korean', 'laiko', 'latin', 'latino', 'leftfield', 'local',\n",
       "       'lounge', 'loungeelectronic', 'lovers', 'malaysian', 'mandopop',\n",
       "       'marschmusik', 'meditative', 'mediterranean', 'melodic', 'metal',\n",
       "       'metalcore', 'mexican', 'middle', 'minimal', 'miscellaneous',\n",
       "       'modern', 'mood', 'mpb', 'muslim', 'native', 'neoklassik', 'neue',\n",
       "       'new', 'newage', 'newwave', 'nu', 'nujazz', 'numetal', 'oceania',\n",
       "       'old', 'opera', 'orchestral', 'other', 'piano', 'pop',\n",
       "       'popelectronic', 'popeurodance', 'post', 'posthardcore',\n",
       "       'postrock', 'power', 'progmetal', 'progressive', 'psychedelic',\n",
       "       'punjabi', 'punk', 'quebecois', 'ragga', 'ram', 'rancheras', 'rap',\n",
       "       'rave', 'reggae', 'reggaeton', 'regional', 'relax', 'religious',\n",
       "       'retro', 'rhythm', 'rnb', 'rnr', 'rock', 'rockabilly', 'romance',\n",
       "       'roots', 'ruspop', 'rusrap', 'rusrock', 'salsa', 'samba',\n",
       "       'schlager', 'self', 'sertanejo', 'shoegazing', 'showtunes',\n",
       "       'singer', 'ska', 'slow', 'smooth', 'soul', 'soulful', 'sound',\n",
       "       'soundtrack', 'southern', 'specialty', 'speech', 'spiritual',\n",
       "       'sport', 'stonerrock', 'surf', 'swing', 'synthpop',\n",
       "       'sängerportrait', 'tango', 'tanzorchester', 'taraftar', 'tech',\n",
       "       'techno', 'thrash', 'top', 'traditional', 'tradjazz', 'trance',\n",
       "       'tribal', 'trip', 'triphop', 'tropical', 'türk', 'türkçe',\n",
       "       'unknown', 'urban', 'uzbek', 'variété', 'vi', 'videogame', 'vocal',\n",
       "       'western', 'world', 'worldbeat', 'ïîï'], dtype=object)"
      ]
     },
     "execution_count": 41,
     "metadata": {},
     "output_type": "execute_result"
    }
   ],
   "source": [
    "df[\"genre\"].sort_values().unique()# inspeccionando los nombres de géneros únicos"
   ]
  },
  {
   "cell_type": "markdown",
   "metadata": {
    "id": "qej-Qmuo_Zct"
   },
   "source": [
    "Se identifica en la lista los duplicados implícitos del género `hiphop`. Se encuentran los siguientes duplicados: hip, hop, hip-hop.\n",
    "\n",
    "Se declara la función `replace_wrong_genres()` con dos parámetros: \n",
    "* `wrong_genres=` — la lista de duplicados\n",
    "* `correct_genre=` — la string con el valor correcto."
   ]
  },
  {
   "cell_type": "code",
   "execution_count": 42,
   "metadata": {
    "id": "ErNDkmns_Zct"
   },
   "outputs": [],
   "source": [
    "def replace_wrong_genres(wrong_genres,correct_genre):\n",
    "    for wrong_genre in wrong_genres:\n",
    "        df[\"genre\"]=df[\"genre\"].replace(wrong_genre,correct_genre)\n",
    "        \n",
    "duplicates=[\"hip\",\"hop\",\"hip-hop\"]\n",
    "genre=\"hiphop\"\n",
    "                     "
   ]
  },
  {
   "cell_type": "code",
   "execution_count": 43,
   "metadata": {
    "id": "YN5i2hpmSo09"
   },
   "outputs": [
    {
     "name": "stdout",
     "output_type": "stream",
     "text": [
      "        user_id                              track            artist  \\\n",
      "0      FFB692EC                  Kamigata To Boots  The Mass Missile   \n",
      "1      55204538        Delayed Because of Accident  Andreas Rönnberg   \n",
      "2        20EC38                  Funiculì funiculà       Mario Lanza   \n",
      "3      A3DD03C9              Dragons in the Sunset        Fire + Ice   \n",
      "4      E2DC1FAE                        Soul People        Space Echo   \n",
      "...         ...                                ...               ...   \n",
      "61248  729CBB09                            My Name            McLean   \n",
      "61249  D08D4A55  Maybe One Day (feat. Black Spade)       Blu & Exile   \n",
      "61250  C5E3A0D5                          Jalopiina           unknown   \n",
      "61251  321D0506                      Freight Train     Chas McDevitt   \n",
      "61252  3A64EF84          Tell Me Sweet Little Lies      Monica Lopez   \n",
      "\n",
      "            genre         city      time        day  \n",
      "0            rock  Shelbyville  20:28:33  Wednesday  \n",
      "1            rock  Springfield  14:07:09     Friday  \n",
      "2             pop  Shelbyville  20:58:07  Wednesday  \n",
      "3            folk  Shelbyville  08:37:09     Monday  \n",
      "4           dance  Springfield  08:34:34     Monday  \n",
      "...           ...          ...       ...        ...  \n",
      "61248         rnb  Springfield  13:32:28  Wednesday  \n",
      "61249      hiphop  Shelbyville  10:00:00     Monday  \n",
      "61250  industrial  Springfield  20:09:26     Friday  \n",
      "61251        rock  Springfield  21:43:59     Friday  \n",
      "61252     country  Springfield  21:59:46     Friday  \n",
      "\n",
      "[61253 rows x 7 columns]\n"
     ]
    }
   ],
   "source": [
    "replace_wrong_genres(duplicates,genre)\n",
    "print(df)\n"
   ]
  },
  {
   "cell_type": "markdown",
   "metadata": {
    "id": "zQKF16_RG15m"
   },
   "source": [
    "Se imprime nuevamente la lista de valores únicos de la columna `'genre'`:"
   ]
  },
  {
   "cell_type": "code",
   "execution_count": 44,
   "metadata": {
    "id": "wvixALnFG15m"
   },
   "outputs": [
    {
     "data": {
      "text/plain": [
       "array(['acid', 'acoustic', 'action', 'adult', 'africa', 'afrikaans',\n",
       "       'alternative', 'ambient', 'americana', 'animated', 'anime',\n",
       "       'arabesk', 'arabic', 'arena', 'argentinetango', 'art', 'audiobook',\n",
       "       'avantgarde', 'axé', 'baile', 'balkan', 'beats', 'bigroom',\n",
       "       'black', 'bluegrass', 'blues', 'bollywood', 'bossa', 'brazilian',\n",
       "       'breakbeat', 'breaks', 'broadway', 'cantautori', 'cantopop',\n",
       "       'canzone', 'caribbean', 'caucasian', 'celtic', 'chamber',\n",
       "       'children', 'chill', 'chinese', 'choral', 'christian', 'christmas',\n",
       "       'classical', 'classicmetal', 'club', 'colombian', 'comedy',\n",
       "       'conjazz', 'contemporary', 'country', 'cuban', 'dance',\n",
       "       'dancehall', 'dancepop', 'dark', 'death', 'deep', 'deutschrock',\n",
       "       'deutschspr', 'dirty', 'disco', 'dnb', 'documentary', 'downbeat',\n",
       "       'downtempo', 'drum', 'dub', 'dubstep', 'eastern', 'easy',\n",
       "       'electronic', 'electropop', 'emo', 'entehno', 'epicmetal',\n",
       "       'estrada', 'ethnic', 'eurofolk', 'european', 'experimental',\n",
       "       'extrememetal', 'fado', 'film', 'fitness', 'flamenco', 'folk',\n",
       "       'folklore', 'folkmetal', 'folkrock', 'folktronica', 'forró',\n",
       "       'frankreich', 'französisch', 'french', 'funk', 'future', 'gangsta',\n",
       "       'garage', 'german', 'ghazal', 'gitarre', 'glitch', 'gospel',\n",
       "       'gothic', 'grime', 'grunge', 'gypsy', 'handsup', \"hard'n'heavy\",\n",
       "       'hardcore', 'hardstyle', 'hardtechno', 'hiphop', 'historisch',\n",
       "       'holiday', 'horror', 'house', 'idm', 'independent', 'indian',\n",
       "       'indie', 'indipop', 'industrial', 'inspirational', 'instrumental',\n",
       "       'international', 'irish', 'jam', 'japanese', 'jazz', 'jewish',\n",
       "       'jpop', 'jungle', 'k-pop', 'karadeniz', 'karaoke', 'kayokyoku',\n",
       "       'korean', 'laiko', 'latin', 'latino', 'leftfield', 'local',\n",
       "       'lounge', 'loungeelectronic', 'lovers', 'malaysian', 'mandopop',\n",
       "       'marschmusik', 'meditative', 'mediterranean', 'melodic', 'metal',\n",
       "       'metalcore', 'mexican', 'middle', 'minimal', 'miscellaneous',\n",
       "       'modern', 'mood', 'mpb', 'muslim', 'native', 'neoklassik', 'neue',\n",
       "       'new', 'newage', 'newwave', 'nu', 'nujazz', 'numetal', 'oceania',\n",
       "       'old', 'opera', 'orchestral', 'other', 'piano', 'pop',\n",
       "       'popelectronic', 'popeurodance', 'post', 'posthardcore',\n",
       "       'postrock', 'power', 'progmetal', 'progressive', 'psychedelic',\n",
       "       'punjabi', 'punk', 'quebecois', 'ragga', 'ram', 'rancheras', 'rap',\n",
       "       'rave', 'reggae', 'reggaeton', 'regional', 'relax', 'religious',\n",
       "       'retro', 'rhythm', 'rnb', 'rnr', 'rock', 'rockabilly', 'romance',\n",
       "       'roots', 'ruspop', 'rusrap', 'rusrock', 'salsa', 'samba',\n",
       "       'schlager', 'self', 'sertanejo', 'shoegazing', 'showtunes',\n",
       "       'singer', 'ska', 'slow', 'smooth', 'soul', 'soulful', 'sound',\n",
       "       'soundtrack', 'southern', 'specialty', 'speech', 'spiritual',\n",
       "       'sport', 'stonerrock', 'surf', 'swing', 'synthpop',\n",
       "       'sängerportrait', 'tango', 'tanzorchester', 'taraftar', 'tech',\n",
       "       'techno', 'thrash', 'top', 'traditional', 'tradjazz', 'trance',\n",
       "       'tribal', 'trip', 'triphop', 'tropical', 'türk', 'türkçe',\n",
       "       'unknown', 'urban', 'uzbek', 'variété', 'vi', 'videogame', 'vocal',\n",
       "       'western', 'world', 'worldbeat', 'ïîï'], dtype=object)"
      ]
     },
     "execution_count": 44,
     "metadata": {},
     "output_type": "execute_result"
    }
   ],
   "source": [
    "df[\"genre\"].sort_values().unique()# revisando en busca de duplicados implícitos"
   ]
  },
  {
   "cell_type": "markdown",
   "metadata": {
    "id": "ALgNbvF3VtPA"
   },
   "source": [
    "[Volver a Contenidos](#back)"
   ]
  },
  {
   "cell_type": "markdown",
   "metadata": {
    "id": "WttZHXH0SqKk"
   },
   "source": [
    "## Etapa 3. Prueba de hipótesis <a id='hypotheses'></a>"
   ]
  },
  {
   "cell_type": "markdown",
   "metadata": {
    "id": "Im936VVi_Zcu"
   },
   "source": [
    "### Hipótesis 1: comparar el comportamiento del usuario en las dos ciudades <a id='activity'></a>"
   ]
  },
  {
   "cell_type": "markdown",
   "metadata": {
    "id": "8Dw_YMmT_Zcu"
   },
   "source": [
    "Se evalùa la actividad del usuario en cada ciudad. Se agrupan los datos por ciudad y encuentra el número de canciones reproducidas en cada grupo."
   ]
  },
  {
   "cell_type": "code",
   "execution_count": 45,
   "metadata": {
    "id": "0_Qs96oh_Zcu"
   },
   "outputs": [
    {
     "data": {
      "text/plain": [
       "city\n",
       "Shelbyville    18512\n",
       "Springfield    42741\n",
       "Name: user_id, dtype: int64"
      ]
     },
     "execution_count": 45,
     "metadata": {},
     "output_type": "execute_result"
    }
   ],
   "source": [
    "df.groupby(\"city\")[\"user_id\"].count()# contando las pistas reproducidas en cada ciudad"
   ]
  },
  {
   "cell_type": "markdown",
   "metadata": {
    "id": "dzli3w8o_Zcu"
   },
   "source": [
    "Springfield ha reproducido más pistas que Shelbyville. Pero eso no implica que los ciudadanos de Springfield escuchen música más a menudo. Esta ciudad es simplemente más grande y hay más usuarios.\n",
    "\n",
    "Se agrupan los datos por día de la semana y se encuentra el número de pistas reproducidas el lunes, miércoles y viernes.\n"
   ]
  },
  {
   "cell_type": "code",
   "execution_count": 46,
   "metadata": {
    "id": "uZMKjiJz_Zcu"
   },
   "outputs": [
    {
     "data": {
      "text/plain": [
       "day\n",
       "Friday       21840\n",
       "Monday       21354\n",
       "Wednesday    18059\n",
       "Name: user_id, dtype: int64"
      ]
     },
     "execution_count": 46,
     "metadata": {},
     "output_type": "execute_result"
    }
   ],
   "source": [
    "df.groupby(\"day\")[\"user_id\"].count()# calculando las pistas reproducidas en cada uno de los tres días"
   ]
  },
  {
   "cell_type": "markdown",
   "metadata": {
    "id": "cC2tNrlL_Zcu"
   },
   "source": [
    "El miércoles fue el día más silencioso de todos. Pero si consideramos las dos ciudades por separado podríamos llegar a una conclusión diferente."
   ]
  },
  {
   "cell_type": "markdown",
   "metadata": {
    "id": "POzs8bGa_Zcu"
   },
   "source": [
    "\n",
    "Se crea una funciòn para calcular el número de canciones reproducidas en un determinado día y ciudad. Requerirá dos parámetros:\n",
    "\n",
    "Luego se calcula el nùmero de usuarios para cada dìa en cada Ciudad."
   ]
  },
  {
   "cell_type": "code",
   "execution_count": 47,
   "metadata": {
    "id": "Nz3GdQB1_Zcu"
   },
   "outputs": [],
   "source": [
    "\n",
    "def number_tracks(day,city):\n",
    "    \n",
    "    track_list=df[(df[\"day\"] == day)&(df[\"city\"] == city)]\n",
    "    track_list_count=track_list[\"user_id\"].count()\n",
    "    return track_list_count"
   ]
  },
  {
   "cell_type": "markdown",
   "metadata": {
    "id": "ytf7xFrFJQ2r"
   },
   "source": [
    "Se recuperan los datos de ambas ciudades para cada uno de los tres días."
   ]
  },
  {
   "cell_type": "code",
   "execution_count": 48,
   "metadata": {
    "id": "rJcRATNQ_Zcu"
   },
   "outputs": [
    {
     "name": "stdout",
     "output_type": "stream",
     "text": [
      "15740\n"
     ]
    }
   ],
   "source": [
    "print(number_tracks(\"Monday\",\"Springfield\"))# el número de canciones reproducidas en Springfield el lunes"
   ]
  },
  {
   "cell_type": "code",
   "execution_count": 49,
   "metadata": {
    "id": "hq_ncZ5T_Zcu"
   },
   "outputs": [
    {
     "name": "stdout",
     "output_type": "stream",
     "text": [
      "5614\n"
     ]
    }
   ],
   "source": [
    "print(number_tracks(\"Monday\",\"Shelbyville\"))# el número de canciones reproducidas en Shelbyville el lunes"
   ]
  },
  {
   "cell_type": "code",
   "execution_count": 50,
   "metadata": {
    "id": "_NTy2VPU_Zcu"
   },
   "outputs": [
    {
     "name": "stdout",
     "output_type": "stream",
     "text": [
      "11056\n"
     ]
    }
   ],
   "source": [
    "print(number_tracks(\"Wednesday\",\"Springfield\"))# el número de canciones reproducidas en Springfield el miércoles"
   ]
  },
  {
   "cell_type": "code",
   "execution_count": 24,
   "metadata": {
    "id": "j2y3TAwo_Zcu"
   },
   "outputs": [
    {
     "name": "stdout",
     "output_type": "stream",
     "text": [
      "7003\n"
     ]
    }
   ],
   "source": [
    "print(number_tracks(\"Wednesday\",\"Shelbyville\"))# el número de canciones reproducidas en Shelbyville el miércoles"
   ]
  },
  {
   "cell_type": "code",
   "execution_count": 51,
   "metadata": {
    "id": "vYDw5u_K_Zcu"
   },
   "outputs": [
    {
     "name": "stdout",
     "output_type": "stream",
     "text": [
      "15945\n"
     ]
    }
   ],
   "source": [
    "print(number_tracks(\"Friday\",\"Springfield\"))# el número de canciones reproducidas en Springfield el viernes"
   ]
  },
  {
   "cell_type": "code",
   "execution_count": 52,
   "metadata": {
    "id": "8_yzFtW3_Zcu"
   },
   "outputs": [
    {
     "name": "stdout",
     "output_type": "stream",
     "text": [
      "5895\n"
     ]
    }
   ],
   "source": [
    "print(number_tracks(\"Friday\",\"Shelbyville\"))# el número de canciones reproducidas en Shelbyville el viernes"
   ]
  },
  {
   "cell_type": "markdown",
   "metadata": {
    "id": "7QXffbO-_Zcu"
   },
   "source": [
    "Se elabora una tabla que contenga los datos de la cantidad de usuarios por dìa en cada Ciudad."
   ]
  },
  {
   "cell_type": "code",
   "execution_count": 53,
   "metadata": {},
   "outputs": [],
   "source": [
    "datos=[\n",
    "    [\"Springfield\",16715,11755,16890],\n",
    "    [\"Shelbyville\",5982,7478,6259]\n",
    "]\n",
    "\n",
    "columnas=[\"city\",\"Monday\",\"Wednesday\",\"Friday\"]\n",
    "\n",
    "tabla=pd.DataFrame(data=datos, columns=columnas)"
   ]
  },
  {
   "cell_type": "code",
   "execution_count": 54,
   "metadata": {
    "id": "APAcLpOr_Zcu"
   },
   "outputs": [
    {
     "name": "stdout",
     "output_type": "stream",
     "text": [
      "          city  Monday  Wednesday  Friday\n",
      "0  Springfield   16715      11755   16890\n",
      "1  Shelbyville    5982       7478    6259\n"
     ]
    }
   ],
   "source": [
    "print(tabla)# tabla con los resultados"
   ]
  },
  {
   "cell_type": "markdown",
   "metadata": {
    "id": "-EgPIHYu_Zcu"
   },
   "source": [
    "**Conclusiones**\n",
    "\n",
    "Los datos revelan las diferencias en el comportamiento de los usuarios:\n",
    "\n",
    "- En Springfield, el número de canciones reproducidas alcanzan el punto máximo los lunes y viernes mientras que los miércoles hay un descenso de la actividad.\n",
    "- En Shelbyville, al contario, los usuarios escuchan más música los miércoles. La actividad de los usuarios los lunes y viernes es menor.\n",
    "\n",
    "Así que la primera hipótesis parece ser correcta."
   ]
  },
  {
   "cell_type": "markdown",
   "metadata": {
    "id": "p7nFQajCVw5B"
   },
   "source": [
    "[Volver a Contenidos](#back)"
   ]
  },
  {
   "cell_type": "markdown",
   "metadata": {
    "id": "atZAxtq4_Zcu"
   },
   "source": [
    "### Hipótesis 2: música al principio y al final de la semana <a id='week'></a>"
   ]
  },
  {
   "cell_type": "markdown",
   "metadata": {
    "id": "eXrQqXFH_Zcu"
   },
   "source": [
    "De acuerdo con la segunda hipótesis, los lunes por la mañana y los viernes por la noche los ciudadanos de Springfield escuchan géneros que difieren de aquellos que los usuarios de Shelbyville disfrutan."
   ]
  },
  {
   "cell_type": "markdown",
   "metadata": {
    "id": "S8UcW6Hw_Zcu"
   },
   "source": [
    "Se filtra la informaciòn para cada ciudad."
   ]
  },
  {
   "cell_type": "code",
   "execution_count": 55,
   "metadata": {
    "id": "qeaFfM_P_Zcu"
   },
   "outputs": [
    {
     "name": "stdout",
     "output_type": "stream",
     "text": [
      "        user_id                          track                   artist  \\\n",
      "1      55204538    Delayed Because of Accident         Andreas Rönnberg   \n",
      "4      E2DC1FAE                    Soul People               Space Echo   \n",
      "6      4CB90AA5                           True             Roman Messer   \n",
      "7      F03E1C1F               Feeling This Way          Polina Griffith   \n",
      "8      8FA1D3BE                       L’estate              Julia Dalia   \n",
      "...         ...                            ...                      ...   \n",
      "61247  83A474E7  I Worship Only What You Bleed  The Black Dahlia Murder   \n",
      "61248  729CBB09                        My Name                   McLean   \n",
      "61250  C5E3A0D5                      Jalopiina                  unknown   \n",
      "61251  321D0506                  Freight Train            Chas McDevitt   \n",
      "61252  3A64EF84      Tell Me Sweet Little Lies             Monica Lopez   \n",
      "\n",
      "              genre         city      time        day  \n",
      "1              rock  Springfield  14:07:09     Friday  \n",
      "4             dance  Springfield  08:34:34     Monday  \n",
      "6             dance  Springfield  13:00:07  Wednesday  \n",
      "7             dance  Springfield  20:47:49  Wednesday  \n",
      "8            ruspop  Springfield  09:17:40     Friday  \n",
      "...             ...          ...       ...        ...  \n",
      "61247  extrememetal  Springfield  21:07:12     Monday  \n",
      "61248           rnb  Springfield  13:32:28  Wednesday  \n",
      "61250    industrial  Springfield  20:09:26     Friday  \n",
      "61251          rock  Springfield  21:43:59     Friday  \n",
      "61252       country  Springfield  21:59:46     Friday  \n",
      "\n",
      "[42741 rows x 7 columns]\n"
     ]
    }
   ],
   "source": [
    "spr_general = df[df[\"city\"]==\"Springfield\"]# obteniendo la tabla spr_general de las filas de df, \n",
    "print(spr_general)# donde los valores en la columna 'city' es 'Springfield'\n"
   ]
  },
  {
   "cell_type": "code",
   "execution_count": 56,
   "metadata": {
    "id": "ORaVRKto_Zcu"
   },
   "outputs": [
    {
     "name": "stdout",
     "output_type": "stream",
     "text": [
      "        user_id                              track              artist  \\\n",
      "0      FFB692EC                  Kamigata To Boots    The Mass Missile   \n",
      "2        20EC38                  Funiculì funiculà         Mario Lanza   \n",
      "3      A3DD03C9              Dragons in the Sunset          Fire + Ice   \n",
      "5      842029A1                             Chains            Obladaet   \n",
      "9      E772D5C0                          Pessimist             unknown   \n",
      "...         ...                                ...                 ...   \n",
      "61239  D94F810B        Theme from the Walking Dead  Proyecto Halloween   \n",
      "61240  BC8EC5CF       Red Lips: Gta (Rover Rework)               Rover   \n",
      "61241  29E04611                       Bre Petrunko       Perunika Trio   \n",
      "61242  1B91C621             (Hello) Cloud Mountain     sleepmakeswaves   \n",
      "61249  D08D4A55  Maybe One Day (feat. Black Spade)         Blu & Exile   \n",
      "\n",
      "            genre         city      time        day  \n",
      "0            rock  Shelbyville  20:28:33  Wednesday  \n",
      "2             pop  Shelbyville  20:58:07  Wednesday  \n",
      "3            folk  Shelbyville  08:37:09     Monday  \n",
      "5          rusrap  Shelbyville  13:09:41     Friday  \n",
      "9           dance  Shelbyville  21:20:49  Wednesday  \n",
      "...           ...          ...       ...        ...  \n",
      "61239        film  Shelbyville  21:14:40     Monday  \n",
      "61240  electronic  Shelbyville  21:06:50     Monday  \n",
      "61241       world  Shelbyville  13:56:00     Monday  \n",
      "61242    postrock  Shelbyville  09:22:13     Monday  \n",
      "61249      hiphop  Shelbyville  10:00:00     Monday  \n",
      "\n",
      "[18512 rows x 7 columns]\n"
     ]
    }
   ],
   "source": [
    "shel_general=df[df[\"city\"]==\"Shelbyville\"]# obteniendo shel_general de las filas df,\n",
    "print(shel_general)# donde el valor de la columna 'city' es 'Shelbyville'\n"
   ]
  },
  {
   "cell_type": "markdown",
   "metadata": {
    "id": "MEJV-CX2_Zcu"
   },
   "source": [
    "Se elabora una funciòn que devuelva la informaciòn de los 15 gèneros mas populares de un dìa determinado en un periodo entre dos marcas de fecha y hora.\n",
    "* Una tabla para los datos (`df`)\n",
    "* El día de la semana (`day`)\n",
    "* La marca de fecha y hora en formato 'hh:mm' (`time1`)\n",
    "* La marca de fecha y hora en formato 'hh:mm' (`time2`)"
   ]
  },
  {
   "cell_type": "code",
   "execution_count": 68,
   "metadata": {
    "id": "laJT9BYl_Zcu"
   },
   "outputs": [],
   "source": [
    "def genre_weekday(df,day,time1,time2):\n",
    "    genre_df = df[(df[\"day\"] == day)&(df[\"time\"]>time1)&(df[\"time\"]<time2)]\n",
    "    genre_df_grouped = genre_df.groupby(\"genre\")[\"user_id\"].count()\n",
    "    genre_df_sorted = genre_df_grouped.sort_values(ascending=False)\n",
    "\n",
    "    return genre_df_sorted[:15]\n"
   ]
  },
  {
   "cell_type": "markdown",
   "metadata": {
    "id": "la2s2_PF_Zcu"
   },
   "source": [
    "Se comparan los resultados de la función `genre_weekday()`para Springfield y Shelbyville el lunes por la mañana (de 7 a 11) y el viernes por la tarde (de 17:00 a 23:00):"
   ]
  },
  {
   "cell_type": "code",
   "execution_count": 69,
   "metadata": {
    "id": "yz7itPUQ_Zcu",
    "scrolled": true
   },
   "outputs": [
    {
     "name": "stdout",
     "output_type": "stream",
     "text": [
      "genre\n",
      "pop            781\n",
      "dance          549\n",
      "electronic     480\n",
      "rock           474\n",
      "hiphop         286\n",
      "ruspop         186\n",
      "world          181\n",
      "rusrap         175\n",
      "alternative    164\n",
      "unknown        161\n",
      "classical      157\n",
      "metal          120\n",
      "jazz           100\n",
      "folk            97\n",
      "soundtrack      95\n",
      "Name: user_id, dtype: int64\n"
     ]
    }
   ],
   "source": [
    "print(genre_weekday(spr_general,\"Monday\",\"07:00:00\",\"11:00:00\"))"
   ]
  },
  {
   "cell_type": "code",
   "execution_count": 70,
   "metadata": {
    "id": "kwUcHPdy_Zcu"
   },
   "outputs": [
    {
     "name": "stdout",
     "output_type": "stream",
     "text": [
      "genre\n",
      "pop            218\n",
      "dance          182\n",
      "rock           162\n",
      "electronic     147\n",
      "hiphop          80\n",
      "ruspop          64\n",
      "alternative     58\n",
      "rusrap          55\n",
      "jazz            44\n",
      "classical       40\n",
      "world           36\n",
      "rap             32\n",
      "soundtrack      31\n",
      "rnb             27\n",
      "metal           27\n",
      "Name: user_id, dtype: int64\n"
     ]
    }
   ],
   "source": [
    "print(genre_weekday(shel_general,\"Monday\",\"07:00:00\",\"11:00:00\"))\n",
    "# llamando a la función para el lunes por la mañana en Shelbyville (utilizando shel_general en vez de la tabla df)\n"
   ]
  },
  {
   "cell_type": "code",
   "execution_count": 71,
   "metadata": {
    "id": "EzXVRE1o_Zcu"
   },
   "outputs": [
    {
     "name": "stdout",
     "output_type": "stream",
     "text": [
      "genre\n",
      "pop            713\n",
      "rock           517\n",
      "dance          495\n",
      "electronic     482\n",
      "hiphop         273\n",
      "world          208\n",
      "ruspop         170\n",
      "classical      163\n",
      "alternative    163\n",
      "rusrap         142\n",
      "jazz           111\n",
      "unknown        110\n",
      "soundtrack     105\n",
      "rnb             90\n",
      "metal           88\n",
      "Name: user_id, dtype: int64\n"
     ]
    }
   ],
   "source": [
    "print(genre_weekday(spr_general,\"Friday\",\"17:00:00\",\"23:00:00\"))# llamando a la función para el viernes por la tarde en Springfield"
   ]
  },
  {
   "cell_type": "code",
   "execution_count": 72,
   "metadata": {
    "id": "JZaEKu5v_Zcu"
   },
   "outputs": [
    {
     "name": "stdout",
     "output_type": "stream",
     "text": [
      "genre\n",
      "pop            256\n",
      "rock           216\n",
      "electronic     216\n",
      "dance          210\n",
      "hiphop          97\n",
      "alternative     63\n",
      "jazz            61\n",
      "classical       60\n",
      "rusrap          59\n",
      "world           54\n",
      "unknown         47\n",
      "ruspop          47\n",
      "soundtrack      40\n",
      "metal           39\n",
      "rap             36\n",
      "Name: user_id, dtype: int64\n"
     ]
    }
   ],
   "source": [
    "print(genre_weekday(shel_general,\"Friday\",\"17:00:00\",\"23:00:00\"))# llamando a la función para el viernes por la tarde en Shelbyville"
   ]
  },
  {
   "cell_type": "markdown",
   "metadata": {
    "id": "wrCe4MNX_Zcu"
   },
   "source": [
    "**Conclusión**\n",
    "\n",
    "Habiendo comparado los 15 géneros más populares del lunes por la mañana podemos concluir lo siguiente:\n",
    "\n",
    "1. Los usuarios de Springfield y Shelbyville escuchan música similar. Los cinco géneros más populares son los mismos, solo rock y electrónica han intercambiado posiciones.\n",
    "\n",
    "2. En Springfield el número de valores ausentes resultaron ser tan altos que el valor `'unknown'` llegó al décimo. Esto significa que los valores ausentes forman una parte considerable de los datos, lo que podría ser la base de la cuestión sobre la fiabilidad de nuestras conclusiones.\n",
    "\n",
    "Para el viernes por la tarde, la situación es similar. Los géneros individuales varían algo pero, en general, los 15 más populares son parecidos en las dos ciudades.\n",
    "\n",
    "De esta forma, la segunda hipótesis ha sido parcialmente demostrada:\n",
    "* Los usuarios escuchan música similar al principio y al final de la semana.\n",
    "* No hay una gran diferencia entre Springfield y Shelbyville. En ambas ciudades, el pop es el género más popular.\n",
    "\n",
    "Sin embargo, el número de valores ausentes hace este resultado un tanto cuestionable. En Springfield, hay tantos que afectan a nuestros 15 más populares. De no faltarnos esos valores, las cosas podrían parecer diferentes."
   ]
  },
  {
   "cell_type": "markdown",
   "metadata": {
    "id": "jLmXgdanVyhP"
   },
   "source": [
    "[Volver a Contenidos](#back)"
   ]
  },
  {
   "cell_type": "markdown",
   "metadata": {
    "id": "JolODAqr_Zcu"
   },
   "source": [
    "### Hipótesis 3: preferencias de género en Springfield y Shelbyville <a id='genre'></a>\n",
    "\n",
    "Hipótesis: Shelbyville ama la música rap. A los ciudadanos de Springfield les gusta más el pop."
   ]
  },
  {
   "cell_type": "markdown",
   "metadata": {
    "id": "DlegSvaT_Zcu"
   },
   "source": [
    "La tabla `spr_general` se agrupa por género y se encuentra el número de canciones reproducidas de cada género con el método `count()`. Después, se ordena el resultado en orden descendente."
   ]
  },
  {
   "cell_type": "code",
   "execution_count": 73,
   "metadata": {
    "id": "r19lIPke_Zcu"
   },
   "outputs": [
    {
     "name": "stdout",
     "output_type": "stream",
     "text": [
      "genre\n",
      "pop            5892\n",
      "dance          4435\n",
      "rock           3965\n",
      "electronic     3786\n",
      "hiphop         2096\n",
      "               ... \n",
      "metalcore         1\n",
      "marschmusik       1\n",
      "malaysian         1\n",
      "lovers            1\n",
      "ïîï               1\n",
      "Name: genre, Length: 250, dtype: int64\n"
     ]
    }
   ],
   "source": [
    "spr_grouped = spr_general.groupby(\"genre\")[\"genre\"].count()\n",
    "spr_genres= spr_grouped.sort_values(ascending=False)\n",
    "print(spr_genres)"
   ]
  },
  {
   "cell_type": "markdown",
   "metadata": {
    "id": "6kMuomxTiIr8"
   },
   "source": [
    "Se revisan las 10 primeras filas de `spr_genres`:"
   ]
  },
  {
   "cell_type": "code",
   "execution_count": 74,
   "metadata": {
    "id": "WhCSooF8_Zcv"
   },
   "outputs": [
    {
     "data": {
      "text/plain": [
       "genre\n",
       "pop            5892\n",
       "dance          4435\n",
       "rock           3965\n",
       "electronic     3786\n",
       "hiphop         2096\n",
       "classical      1616\n",
       "world          1432\n",
       "alternative    1379\n",
       "ruspop         1372\n",
       "rusrap         1161\n",
       "Name: genre, dtype: int64"
      ]
     },
     "execution_count": 74,
     "metadata": {},
     "output_type": "execute_result"
    }
   ],
   "source": [
    "(spr_genres.head(10))# imprimiendo las 10 primeras filas de spr_genres"
   ]
  },
  {
   "cell_type": "markdown",
   "metadata": {
    "id": "cnPG2vnN_Zcv"
   },
   "source": [
    "Se hace los mismo con los datos de Shelbyville."
   ]
  },
  {
   "cell_type": "code",
   "execution_count": 75,
   "metadata": {
    "id": "gluLIpE7_Zcv"
   },
   "outputs": [
    {
     "name": "stdout",
     "output_type": "stream",
     "text": [
      "genre\n",
      "pop           2431\n",
      "dance         1932\n",
      "rock          1879\n",
      "electronic    1736\n",
      "hiphop         960\n",
      "              ... \n",
      "mandopop         1\n",
      "leftfield        1\n",
      "laiko            1\n",
      "jungle           1\n",
      "worldbeat        1\n",
      "Name: genre, Length: 202, dtype: int64\n"
     ]
    }
   ],
   "source": [
    "shel_grouped = shel_general.groupby(\"genre\")[\"genre\"].count()\n",
    "shel_genres= shel_grouped.sort_values(ascending=False)\n",
    "print(shel_genres)"
   ]
  },
  {
   "cell_type": "markdown",
   "metadata": {
    "id": "5Doha_ODgyQ8"
   },
   "source": [
    "Se imprimen las 10 primeras filas de `shel_genres`:"
   ]
  },
  {
   "cell_type": "code",
   "execution_count": 76,
   "metadata": {
    "id": "uaGJHjVU_Zcv"
   },
   "outputs": [
    {
     "data": {
      "text/plain": [
       "genre\n",
       "pop            2431\n",
       "dance          1932\n",
       "rock           1879\n",
       "electronic     1736\n",
       "hiphop          960\n",
       "alternative     649\n",
       "classical       646\n",
       "rusrap          564\n",
       "ruspop          538\n",
       "world           515\n",
       "Name: genre, dtype: int64"
      ]
     },
     "execution_count": 76,
     "metadata": {},
     "output_type": "execute_result"
    }
   ],
   "source": [
    "shel_genres.head(10)# imprimiendo las 10 primeras filas de shel_genres"
   ]
  },
  {
   "cell_type": "markdown",
   "metadata": {
    "id": "RY51YJYu_Zcv"
   },
   "source": [
    "**Conclusión**"
   ]
  },
  {
   "cell_type": "markdown",
   "metadata": {
    "id": "nVhnJEm__Zcv"
   },
   "source": [
    "La hipótesis ha sido parcialmente demostrada:\n",
    "* La música pop es el género más popular en Springfield, tal como se esperaba.\n",
    "* Sin embargo, la música pop ha resultado ser igual de popular en Springfield que en Shelbyville y el rap no estaba entre los 5 más populares en ninguna de las ciudades.\n"
   ]
  },
  {
   "cell_type": "markdown",
   "metadata": {
    "id": "Byr0RfpPVz14"
   },
   "source": [
    "[Volver a Contenidos](#back)"
   ]
  },
  {
   "cell_type": "markdown",
   "metadata": {
    "id": "ykKQ0N65_Zcv"
   },
   "source": [
    "# Conclusiones <a id='end'></a>"
   ]
  },
  {
   "cell_type": "markdown",
   "metadata": {
    "id": "tjUwbHb3_Zcv"
   },
   "source": [
    "Hemos probado las siguientes tres hipótesis:\n",
    "\n",
    "1. La actividad de los usuarios difiere dependiendo del día de la semana y de las distintas ciudades. \n",
    "2. Los lunes por la mañana los residentes de Springfield y Shelbyville escuchan géneros distintos. Lo mismo ocurre con los viernes por la noche.\n",
    "3. Los oyentes de Springfield y Shelbyville tienen distintas preferencias. En ambas ciudades, Springfield y Shelbyville, se prefiere el pop.\n",
    "\n",
    "Tras analizar los datos, concluimos:\n",
    "\n",
    "1. La actividad del usuario en Springfield y Shelbyville depende del día de la semana aunque las ciudades varían de diferentes formas. \n",
    "\n",
    "La primera hipótesis ha sido aceptada completamente.\n",
    "\n",
    "2. Las preferencias musicales no varían significativamente en el transcurso de la semana en Springfield y Shelbyville. Podemos observar pequeñas diferencias en el orden los lunes, pero:\n",
    "* En Springfield y Shelbyville la gente lo que más escucha es la música pop.\n",
    "\n",
    "Así que no podemos aceptar esta hipótesis. También debemos tener en cuenta que el resultado podría haber sido diferente si no fuera por los valores ausentes.\n",
    "\n",
    "3. Resulta que las preferencias musicales de los usuarios de Springfield y Shelbyville son bastante parecidas.\n",
    "\n",
    "La tercera hipótesis es rechazada. Si hay alguna diferencia en las preferencias no se puede observar en los datos."
   ]
  },
  {
   "cell_type": "markdown",
   "metadata": {
    "id": "Ju4AHDSgV1FE"
   },
   "source": [
    "[Volver a Contenidos](#back)"
   ]
  }
 ],
 "metadata": {
  "ExecuteTimeLog": [
   {
    "duration": 388,
    "start_time": "2022-08-14T17:05:27.720Z"
   },
   {
    "duration": 329,
    "start_time": "2022-08-14T17:32:04.425Z"
   },
   {
    "duration": 63,
    "start_time": "2022-08-14T17:37:17.868Z"
   },
   {
    "duration": 8,
    "start_time": "2022-08-14T17:37:45.470Z"
   },
   {
    "duration": 4,
    "start_time": "2022-08-14T18:08:14.813Z"
   },
   {
    "duration": 46,
    "start_time": "2022-08-14T18:29:05.951Z"
   },
   {
    "duration": 17,
    "start_time": "2022-08-14T18:38:36.193Z"
   },
   {
    "duration": 15,
    "start_time": "2022-08-14T18:38:42.406Z"
   },
   {
    "duration": 15,
    "start_time": "2022-08-14T18:39:23.402Z"
   },
   {
    "duration": 8,
    "start_time": "2022-08-14T18:40:10.844Z"
   },
   {
    "duration": 4,
    "start_time": "2022-08-14T18:40:32.159Z"
   },
   {
    "duration": 8,
    "start_time": "2022-08-14T18:42:02.149Z"
   },
   {
    "duration": 4,
    "start_time": "2022-08-14T18:42:08.576Z"
   },
   {
    "duration": 43,
    "start_time": "2022-08-15T18:08:11.084Z"
   },
   {
    "duration": 6,
    "start_time": "2022-08-15T18:08:18.891Z"
   },
   {
    "duration": 11,
    "start_time": "2022-08-15T18:12:28.579Z"
   },
   {
    "duration": 8,
    "start_time": "2022-08-15T18:18:00.023Z"
   },
   {
    "duration": 8,
    "start_time": "2022-08-15T18:18:13.029Z"
   },
   {
    "duration": 6,
    "start_time": "2022-08-15T18:20:25.232Z"
   },
   {
    "duration": 5,
    "start_time": "2022-08-15T18:22:05.297Z"
   },
   {
    "duration": 6,
    "start_time": "2022-08-15T18:28:02.311Z"
   },
   {
    "duration": 8,
    "start_time": "2022-08-15T18:28:18.053Z"
   },
   {
    "duration": 8,
    "start_time": "2022-08-15T18:31:11.890Z"
   },
   {
    "duration": 6,
    "start_time": "2022-08-15T18:32:24.289Z"
   },
   {
    "duration": 9,
    "start_time": "2022-08-15T18:36:38.861Z"
   },
   {
    "duration": 6,
    "start_time": "2022-08-15T18:37:04.930Z"
   },
   {
    "duration": 8,
    "start_time": "2022-08-15T18:37:30.899Z"
   },
   {
    "duration": 8,
    "start_time": "2022-08-15T18:39:52.617Z"
   },
   {
    "duration": 14,
    "start_time": "2022-08-15T18:40:09.017Z"
   },
   {
    "duration": 44,
    "start_time": "2022-08-15T18:40:30.977Z"
   },
   {
    "duration": 7,
    "start_time": "2022-08-15T18:40:42.238Z"
   },
   {
    "duration": 11,
    "start_time": "2022-08-15T18:41:02.298Z"
   },
   {
    "duration": 10,
    "start_time": "2022-08-15T18:41:05.352Z"
   },
   {
    "duration": 11,
    "start_time": "2022-08-15T18:41:50.553Z"
   },
   {
    "duration": 7,
    "start_time": "2022-08-15T18:42:20.343Z"
   },
   {
    "duration": 15,
    "start_time": "2022-08-15T18:42:41.197Z"
   },
   {
    "duration": 7,
    "start_time": "2022-08-15T18:47:17.637Z"
   },
   {
    "duration": 16,
    "start_time": "2022-08-15T18:47:26.788Z"
   },
   {
    "duration": 8,
    "start_time": "2022-08-15T18:47:47.537Z"
   },
   {
    "duration": 6,
    "start_time": "2022-08-15T18:54:50.414Z"
   },
   {
    "duration": 14,
    "start_time": "2022-08-15T18:55:07.753Z"
   },
   {
    "duration": 7,
    "start_time": "2022-08-15T18:57:45.741Z"
   },
   {
    "duration": 13,
    "start_time": "2022-08-15T18:58:21.587Z"
   },
   {
    "duration": 9,
    "start_time": "2022-08-15T19:04:04.225Z"
   },
   {
    "duration": 6,
    "start_time": "2022-08-15T19:05:30.722Z"
   },
   {
    "duration": 5,
    "start_time": "2022-08-15T19:12:55.491Z"
   },
   {
    "duration": 6,
    "start_time": "2022-08-15T19:18:05.743Z"
   },
   {
    "duration": 13,
    "start_time": "2022-08-15T19:26:09.377Z"
   },
   {
    "duration": 42,
    "start_time": "2022-08-15T19:28:59.498Z"
   },
   {
    "duration": 6,
    "start_time": "2022-08-15T19:30:01.004Z"
   },
   {
    "duration": 388,
    "start_time": "2022-08-15T19:30:30.701Z"
   },
   {
    "duration": 831,
    "start_time": "2022-08-15T19:30:36.046Z"
   },
   {
    "duration": 6,
    "start_time": "2022-08-15T19:30:42.329Z"
   },
   {
    "duration": 3,
    "start_time": "2022-08-15T19:30:47.948Z"
   },
   {
    "duration": 4,
    "start_time": "2022-08-15T19:30:53.305Z"
   },
   {
    "duration": 24,
    "start_time": "2022-08-15T19:30:59.506Z"
   },
   {
    "duration": 17,
    "start_time": "2022-08-15T19:31:05.848Z"
   },
   {
    "duration": 12,
    "start_time": "2022-08-15T19:31:17.223Z"
   },
   {
    "duration": 5,
    "start_time": "2022-08-15T19:31:52.484Z"
   },
   {
    "duration": 36,
    "start_time": "2022-08-15T19:31:56.612Z"
   },
   {
    "duration": 2429,
    "start_time": "2022-08-15T19:56:28.383Z"
   },
   {
    "duration": 10,
    "start_time": "2022-08-15T20:22:22.499Z"
   },
   {
    "duration": 32,
    "start_time": "2022-08-15T20:42:01.584Z"
   },
   {
    "duration": 56,
    "start_time": "2022-08-15T20:42:37.564Z"
   },
   {
    "duration": 77,
    "start_time": "2022-08-15T20:44:42.179Z"
   },
   {
    "duration": 12,
    "start_time": "2022-08-15T20:51:15.699Z"
   },
   {
    "duration": 102,
    "start_time": "2022-08-15T20:52:04.145Z"
   },
   {
    "duration": 90,
    "start_time": "2022-08-15T20:53:04.122Z"
   },
   {
    "duration": 78,
    "start_time": "2022-08-15T20:54:43.896Z"
   },
   {
    "duration": 97,
    "start_time": "2022-08-15T20:54:49.802Z"
   },
   {
    "duration": 126,
    "start_time": "2022-08-15T21:00:06.649Z"
   },
   {
    "duration": 18,
    "start_time": "2022-08-15T21:00:59.254Z"
   },
   {
    "duration": 67,
    "start_time": "2022-08-15T21:01:09.918Z"
   },
   {
    "duration": 174,
    "start_time": "2022-08-15T21:15:18.246Z"
   },
   {
    "duration": 68,
    "start_time": "2022-08-15T21:15:57.508Z"
   },
   {
    "duration": 67,
    "start_time": "2022-08-15T21:21:54.846Z"
   },
   {
    "duration": 71,
    "start_time": "2022-08-15T21:22:08.761Z"
   },
   {
    "duration": 6,
    "start_time": "2022-08-15T21:37:42.927Z"
   },
   {
    "duration": 15,
    "start_time": "2022-08-15T21:37:56.471Z"
   },
   {
    "duration": 21,
    "start_time": "2022-08-15T21:53:29.246Z"
   },
   {
    "duration": 6,
    "start_time": "2022-08-15T21:56:16.425Z"
   },
   {
    "duration": 6,
    "start_time": "2022-08-15T22:01:15.505Z"
   },
   {
    "duration": 3,
    "start_time": "2022-08-15T22:02:13.828Z"
   },
   {
    "duration": 15,
    "start_time": "2022-08-15T22:02:21.947Z"
   },
   {
    "duration": 17,
    "start_time": "2022-08-15T22:19:56.591Z"
   },
   {
    "duration": 21,
    "start_time": "2022-08-15T22:20:19.382Z"
   },
   {
    "duration": 13,
    "start_time": "2022-08-15T22:26:17.317Z"
   },
   {
    "duration": 23,
    "start_time": "2022-08-15T22:27:39.685Z"
   },
   {
    "duration": 11,
    "start_time": "2022-08-15T22:28:47.110Z"
   },
   {
    "duration": 5,
    "start_time": "2022-08-15T22:29:09.487Z"
   },
   {
    "duration": 301,
    "start_time": "2022-08-15T22:29:15.311Z"
   },
   {
    "duration": 11,
    "start_time": "2022-08-15T22:29:19.752Z"
   },
   {
    "duration": 3,
    "start_time": "2022-08-15T22:29:24.145Z"
   },
   {
    "duration": 37,
    "start_time": "2022-08-15T22:29:33.172Z"
   },
   {
    "duration": 12,
    "start_time": "2022-08-15T22:29:39.195Z"
   },
   {
    "duration": 7,
    "start_time": "2022-08-15T22:29:42.688Z"
   },
   {
    "duration": 43,
    "start_time": "2022-08-15T22:29:46.489Z"
   },
   {
    "duration": 27,
    "start_time": "2022-08-15T22:29:54.184Z"
   },
   {
    "duration": 30,
    "start_time": "2022-08-15T22:29:57.784Z"
   },
   {
    "duration": 74,
    "start_time": "2022-08-15T22:30:02.346Z"
   },
   {
    "duration": 134,
    "start_time": "2022-08-15T22:30:07.351Z"
   },
   {
    "duration": 80,
    "start_time": "2022-08-15T22:30:12.033Z"
   },
   {
    "duration": 59,
    "start_time": "2022-08-15T22:30:17.628Z"
   },
   {
    "duration": 4,
    "start_time": "2022-08-15T22:30:25.230Z"
   },
   {
    "duration": 46,
    "start_time": "2022-08-15T22:30:29.770Z"
   },
   {
    "duration": 7,
    "start_time": "2022-08-15T22:30:35.237Z"
   },
   {
    "duration": 17,
    "start_time": "2022-08-15T22:30:43.071Z"
   },
   {
    "duration": 10,
    "start_time": "2022-08-15T22:30:50.239Z"
   },
   {
    "duration": 14,
    "start_time": "2022-08-15T22:33:23.288Z"
   },
   {
    "duration": 5,
    "start_time": "2022-08-15T22:33:29.293Z"
   },
   {
    "duration": 14,
    "start_time": "2022-08-15T22:35:15.486Z"
   },
   {
    "duration": 4,
    "start_time": "2022-08-15T22:35:20.937Z"
   },
   {
    "duration": 12,
    "start_time": "2022-08-15T22:41:15.815Z"
   },
   {
    "duration": 11,
    "start_time": "2022-08-15T22:45:56.382Z"
   },
   {
    "duration": 350,
    "start_time": "2022-08-15T22:45:56.395Z"
   },
   {
    "duration": 8,
    "start_time": "2022-08-15T22:45:56.747Z"
   },
   {
    "duration": 46,
    "start_time": "2022-08-15T22:45:56.761Z"
   },
   {
    "duration": 89,
    "start_time": "2022-08-15T22:45:56.813Z"
   },
   {
    "duration": 31,
    "start_time": "2022-08-15T22:45:56.905Z"
   },
   {
    "duration": 4,
    "start_time": "2022-08-15T22:45:56.938Z"
   },
   {
    "duration": 59,
    "start_time": "2022-08-15T22:45:56.943Z"
   },
   {
    "duration": 37,
    "start_time": "2022-08-15T22:45:57.004Z"
   },
   {
    "duration": 41,
    "start_time": "2022-08-15T22:45:57.043Z"
   },
   {
    "duration": 123,
    "start_time": "2022-08-15T22:45:57.089Z"
   },
   {
    "duration": 87,
    "start_time": "2022-08-15T22:45:57.216Z"
   },
   {
    "duration": 68,
    "start_time": "2022-08-15T22:45:57.305Z"
   },
   {
    "duration": 69,
    "start_time": "2022-08-15T22:45:57.380Z"
   },
   {
    "duration": 11,
    "start_time": "2022-08-15T22:45:57.450Z"
   },
   {
    "duration": 84,
    "start_time": "2022-08-15T22:45:57.464Z"
   },
   {
    "duration": 7,
    "start_time": "2022-08-15T22:45:57.550Z"
   },
   {
    "duration": 37,
    "start_time": "2022-08-15T22:47:12.154Z"
   },
   {
    "duration": 10,
    "start_time": "2022-08-15T22:47:41.335Z"
   },
   {
    "duration": 2,
    "start_time": "2022-08-15T22:48:09.199Z"
   },
   {
    "duration": 310,
    "start_time": "2022-08-15T22:48:09.203Z"
   },
   {
    "duration": 7,
    "start_time": "2022-08-15T22:48:09.514Z"
   },
   {
    "duration": 9,
    "start_time": "2022-08-15T22:48:09.522Z"
   },
   {
    "duration": 35,
    "start_time": "2022-08-15T22:48:09.533Z"
   },
   {
    "duration": 42,
    "start_time": "2022-08-15T22:48:09.572Z"
   },
   {
    "duration": 6,
    "start_time": "2022-08-15T22:48:09.615Z"
   },
   {
    "duration": 55,
    "start_time": "2022-08-15T22:48:09.622Z"
   },
   {
    "duration": 23,
    "start_time": "2022-08-15T22:48:09.681Z"
   },
   {
    "duration": 43,
    "start_time": "2022-08-15T22:48:09.706Z"
   },
   {
    "duration": 103,
    "start_time": "2022-08-15T22:48:09.751Z"
   },
   {
    "duration": 75,
    "start_time": "2022-08-15T22:48:09.864Z"
   },
   {
    "duration": 68,
    "start_time": "2022-08-15T22:48:09.941Z"
   },
   {
    "duration": 79,
    "start_time": "2022-08-15T22:48:10.013Z"
   },
   {
    "duration": 8,
    "start_time": "2022-08-15T22:48:10.097Z"
   },
   {
    "duration": 17,
    "start_time": "2022-08-15T22:48:10.108Z"
   },
   {
    "duration": 7,
    "start_time": "2022-08-15T22:48:10.127Z"
   },
   {
    "duration": 11,
    "start_time": "2022-08-15T22:48:10.136Z"
   },
   {
    "duration": 9,
    "start_time": "2022-08-15T22:48:29.653Z"
   },
   {
    "duration": 338,
    "start_time": "2022-08-15T22:48:29.663Z"
   },
   {
    "duration": 7,
    "start_time": "2022-08-15T22:48:30.003Z"
   },
   {
    "duration": 9,
    "start_time": "2022-08-15T22:48:30.011Z"
   },
   {
    "duration": 29,
    "start_time": "2022-08-15T22:48:30.022Z"
   },
   {
    "duration": 17,
    "start_time": "2022-08-15T22:48:30.053Z"
   },
   {
    "duration": 33,
    "start_time": "2022-08-15T22:48:30.073Z"
   },
   {
    "duration": 41,
    "start_time": "2022-08-15T22:48:30.108Z"
   },
   {
    "duration": 24,
    "start_time": "2022-08-15T22:48:30.151Z"
   },
   {
    "duration": 47,
    "start_time": "2022-08-15T22:48:30.176Z"
   },
   {
    "duration": 88,
    "start_time": "2022-08-15T22:48:30.225Z"
   },
   {
    "duration": 88,
    "start_time": "2022-08-15T22:48:30.315Z"
   },
   {
    "duration": 67,
    "start_time": "2022-08-15T22:48:30.405Z"
   },
   {
    "duration": 53,
    "start_time": "2022-08-15T22:48:30.479Z"
   },
   {
    "duration": 3,
    "start_time": "2022-08-15T22:48:30.534Z"
   },
   {
    "duration": 21,
    "start_time": "2022-08-15T22:48:30.539Z"
   },
   {
    "duration": 42,
    "start_time": "2022-08-15T22:48:30.574Z"
   },
   {
    "duration": 8,
    "start_time": "2022-08-15T22:48:54.416Z"
   },
   {
    "duration": 12,
    "start_time": "2022-08-15T22:48:58.782Z"
   },
   {
    "duration": 20,
    "start_time": "2022-08-15T22:49:14.176Z"
   },
   {
    "duration": 10,
    "start_time": "2022-08-15T22:49:18.684Z"
   },
   {
    "duration": 14,
    "start_time": "2022-08-15T22:49:29.780Z"
   },
   {
    "duration": 3,
    "start_time": "2022-08-15T22:49:32.708Z"
   },
   {
    "duration": 41,
    "start_time": "2022-08-15T22:49:38.887Z"
   },
   {
    "duration": 3,
    "start_time": "2022-08-15T22:49:51.045Z"
   },
   {
    "duration": 309,
    "start_time": "2022-08-15T22:49:56.342Z"
   },
   {
    "duration": 7,
    "start_time": "2022-08-15T22:49:59.913Z"
   },
   {
    "duration": 4,
    "start_time": "2022-08-15T22:50:11.994Z"
   },
   {
    "duration": 33,
    "start_time": "2022-08-15T22:50:18.476Z"
   },
   {
    "duration": 12,
    "start_time": "2022-08-15T22:50:29.534Z"
   },
   {
    "duration": 12,
    "start_time": "2022-08-15T22:50:32.973Z"
   },
   {
    "duration": 49,
    "start_time": "2022-08-15T22:50:39.529Z"
   },
   {
    "duration": 15,
    "start_time": "2022-08-15T22:50:47.625Z"
   },
   {
    "duration": 24,
    "start_time": "2022-08-15T22:50:51.990Z"
   },
   {
    "duration": 69,
    "start_time": "2022-08-15T22:50:59.106Z"
   },
   {
    "duration": 80,
    "start_time": "2022-08-15T22:51:04.284Z"
   },
   {
    "duration": 57,
    "start_time": "2022-08-15T22:51:10.707Z"
   },
   {
    "duration": 66,
    "start_time": "2022-08-15T22:51:15.644Z"
   },
   {
    "duration": 8,
    "start_time": "2022-08-15T22:51:23.965Z"
   },
   {
    "duration": 12,
    "start_time": "2022-08-15T22:51:28.400Z"
   },
   {
    "duration": 6,
    "start_time": "2022-08-15T22:51:37.198Z"
   },
   {
    "duration": 20,
    "start_time": "2022-08-15T22:51:44.168Z"
   },
   {
    "duration": 10,
    "start_time": "2022-08-15T22:56:03.992Z"
   },
   {
    "duration": 9,
    "start_time": "2022-08-15T22:56:11.382Z"
   },
   {
    "duration": 18,
    "start_time": "2022-08-15T22:56:18.451Z"
   },
   {
    "duration": 3,
    "start_time": "2022-08-15T22:56:23.224Z"
   },
   {
    "duration": 7,
    "start_time": "2022-08-15T22:56:42.405Z"
   },
   {
    "duration": 6,
    "start_time": "2022-08-15T22:56:46.682Z"
   },
   {
    "duration": 8,
    "start_time": "2022-08-15T22:56:55.216Z"
   },
   {
    "duration": 7,
    "start_time": "2022-08-15T22:56:59.092Z"
   },
   {
    "duration": 10,
    "start_time": "2022-08-15T22:57:10.214Z"
   },
   {
    "duration": 5,
    "start_time": "2022-08-15T22:57:13.681Z"
   },
   {
    "duration": 17,
    "start_time": "2022-08-15T22:57:56.796Z"
   },
   {
    "duration": 4,
    "start_time": "2022-08-15T22:58:00.117Z"
   },
   {
    "duration": 11,
    "start_time": "2022-08-15T22:58:09.297Z"
   },
   {
    "duration": 6,
    "start_time": "2022-08-15T22:58:14.653Z"
   },
   {
    "duration": 3,
    "start_time": "2022-08-15T22:58:26.397Z"
   },
   {
    "duration": 311,
    "start_time": "2022-08-15T22:58:30.308Z"
   },
   {
    "duration": 7,
    "start_time": "2022-08-15T22:58:34.520Z"
   },
   {
    "duration": 4,
    "start_time": "2022-08-15T22:58:39.800Z"
   },
   {
    "duration": 44,
    "start_time": "2022-08-15T22:58:47.052Z"
   },
   {
    "duration": 11,
    "start_time": "2022-08-15T22:58:51.205Z"
   },
   {
    "duration": 4,
    "start_time": "2022-08-15T22:58:54.596Z"
   },
   {
    "duration": 44,
    "start_time": "2022-08-15T22:59:01.884Z"
   },
   {
    "duration": 15,
    "start_time": "2022-08-15T22:59:06.504Z"
   },
   {
    "duration": 22,
    "start_time": "2022-08-15T22:59:10.496Z"
   },
   {
    "duration": 63,
    "start_time": "2022-08-15T22:59:14.423Z"
   },
   {
    "duration": 89,
    "start_time": "2022-08-15T22:59:19.493Z"
   },
   {
    "duration": 63,
    "start_time": "2022-08-15T22:59:26.278Z"
   },
   {
    "duration": 50,
    "start_time": "2022-08-15T22:59:30.521Z"
   },
   {
    "duration": 4,
    "start_time": "2022-08-15T22:59:35.998Z"
   },
   {
    "duration": 19,
    "start_time": "2022-08-15T22:59:39.450Z"
   },
   {
    "duration": 12,
    "start_time": "2022-08-15T22:59:43.575Z"
   },
   {
    "duration": 10,
    "start_time": "2022-08-15T22:59:55.644Z"
   },
   {
    "duration": 10,
    "start_time": "2022-08-15T23:00:03.122Z"
   },
   {
    "duration": 17,
    "start_time": "2022-08-15T23:00:16.481Z"
   },
   {
    "duration": 11,
    "start_time": "2022-08-15T23:00:20.401Z"
   },
   {
    "duration": 10,
    "start_time": "2022-08-15T23:01:10.726Z"
   },
   {
    "duration": 10,
    "start_time": "2022-08-15T23:15:02.885Z"
   },
   {
    "duration": 9,
    "start_time": "2022-08-15T23:15:18.106Z"
   },
   {
    "duration": 15,
    "start_time": "2022-08-15T23:15:22.463Z"
   },
   {
    "duration": 3,
    "start_time": "2022-08-15T23:15:58.985Z"
   },
   {
    "duration": 289,
    "start_time": "2022-08-15T23:15:58.989Z"
   },
   {
    "duration": 7,
    "start_time": "2022-08-15T23:15:59.286Z"
   },
   {
    "duration": 6,
    "start_time": "2022-08-15T23:15:59.294Z"
   },
   {
    "duration": 40,
    "start_time": "2022-08-15T23:15:59.302Z"
   },
   {
    "duration": 21,
    "start_time": "2022-08-15T23:15:59.344Z"
   },
   {
    "duration": 24,
    "start_time": "2022-08-15T23:15:59.367Z"
   },
   {
    "duration": 41,
    "start_time": "2022-08-15T23:15:59.393Z"
   },
   {
    "duration": 16,
    "start_time": "2022-08-15T23:15:59.435Z"
   },
   {
    "duration": 60,
    "start_time": "2022-08-15T23:15:59.452Z"
   },
   {
    "duration": 72,
    "start_time": "2022-08-15T23:15:59.515Z"
   },
   {
    "duration": 84,
    "start_time": "2022-08-15T23:15:59.588Z"
   },
   {
    "duration": 54,
    "start_time": "2022-08-15T23:15:59.677Z"
   },
   {
    "duration": 63,
    "start_time": "2022-08-15T23:15:59.733Z"
   },
   {
    "duration": 3,
    "start_time": "2022-08-15T23:15:59.798Z"
   },
   {
    "duration": 17,
    "start_time": "2022-08-15T23:15:59.802Z"
   },
   {
    "duration": 8,
    "start_time": "2022-08-15T23:15:59.820Z"
   },
   {
    "duration": 139,
    "start_time": "2022-08-15T23:16:46.698Z"
   },
   {
    "duration": 14,
    "start_time": "2022-08-15T23:19:09.582Z"
   },
   {
    "duration": 6,
    "start_time": "2022-08-15T23:20:38.685Z"
   },
   {
    "duration": 3,
    "start_time": "2022-08-15T23:20:44.408Z"
   },
   {
    "duration": 12,
    "start_time": "2022-08-15T23:21:29.217Z"
   },
   {
    "duration": 3,
    "start_time": "2022-08-15T23:21:32.324Z"
   },
   {
    "duration": 4,
    "start_time": "2022-08-15T23:22:03.288Z"
   },
   {
    "duration": 38,
    "start_time": "2022-08-15T23:22:03.294Z"
   },
   {
    "duration": 14,
    "start_time": "2022-08-15T23:22:03.334Z"
   },
   {
    "duration": 30,
    "start_time": "2022-08-15T23:22:03.349Z"
   },
   {
    "duration": 53,
    "start_time": "2022-08-15T23:22:03.385Z"
   },
   {
    "duration": 78,
    "start_time": "2022-08-15T23:22:03.439Z"
   },
   {
    "duration": 69,
    "start_time": "2022-08-15T23:22:03.518Z"
   },
   {
    "duration": 41,
    "start_time": "2022-08-15T23:22:03.589Z"
   },
   {
    "duration": 3,
    "start_time": "2022-08-15T23:22:03.631Z"
   },
   {
    "duration": 32,
    "start_time": "2022-08-15T23:22:03.635Z"
   },
   {
    "duration": 7,
    "start_time": "2022-08-15T23:22:03.676Z"
   },
   {
    "duration": 11,
    "start_time": "2022-08-15T23:22:03.685Z"
   },
   {
    "duration": 0,
    "start_time": "2022-08-15T23:22:03.698Z"
   },
   {
    "duration": 0,
    "start_time": "2022-08-15T23:22:03.699Z"
   },
   {
    "duration": 0,
    "start_time": "2022-08-15T23:22:03.700Z"
   },
   {
    "duration": 0,
    "start_time": "2022-08-15T23:22:03.700Z"
   },
   {
    "duration": 0,
    "start_time": "2022-08-15T23:22:03.701Z"
   },
   {
    "duration": 0,
    "start_time": "2022-08-15T23:22:03.702Z"
   },
   {
    "duration": 0,
    "start_time": "2022-08-15T23:22:03.703Z"
   },
   {
    "duration": 0,
    "start_time": "2022-08-15T23:22:03.704Z"
   },
   {
    "duration": 0,
    "start_time": "2022-08-15T23:22:03.705Z"
   },
   {
    "duration": 0,
    "start_time": "2022-08-15T23:22:03.706Z"
   },
   {
    "duration": 0,
    "start_time": "2022-08-15T23:22:03.706Z"
   },
   {
    "duration": 0,
    "start_time": "2022-08-15T23:22:03.707Z"
   },
   {
    "duration": 0,
    "start_time": "2022-08-15T23:22:03.708Z"
   },
   {
    "duration": 0,
    "start_time": "2022-08-15T23:22:03.709Z"
   },
   {
    "duration": 0,
    "start_time": "2022-08-15T23:22:03.710Z"
   },
   {
    "duration": 0,
    "start_time": "2022-08-15T23:22:03.711Z"
   },
   {
    "duration": 0,
    "start_time": "2022-08-15T23:22:03.712Z"
   },
   {
    "duration": 0,
    "start_time": "2022-08-15T23:22:03.712Z"
   },
   {
    "duration": 0,
    "start_time": "2022-08-15T23:22:03.713Z"
   },
   {
    "duration": 0,
    "start_time": "2022-08-15T23:22:03.714Z"
   },
   {
    "duration": 2,
    "start_time": "2022-08-15T23:22:33.402Z"
   },
   {
    "duration": 286,
    "start_time": "2022-08-15T23:22:37.055Z"
   },
   {
    "duration": 7,
    "start_time": "2022-08-15T23:22:40.696Z"
   },
   {
    "duration": 3,
    "start_time": "2022-08-15T23:22:44.882Z"
   },
   {
    "duration": 28,
    "start_time": "2022-08-15T23:22:50.228Z"
   },
   {
    "duration": 7,
    "start_time": "2022-08-15T23:22:56.184Z"
   },
   {
    "duration": 3,
    "start_time": "2022-08-15T23:22:59.825Z"
   },
   {
    "duration": 45,
    "start_time": "2022-08-15T23:23:05.545Z"
   },
   {
    "duration": 16,
    "start_time": "2022-08-15T23:23:12.838Z"
   },
   {
    "duration": 21,
    "start_time": "2022-08-15T23:23:16.315Z"
   },
   {
    "duration": 51,
    "start_time": "2022-08-15T23:23:25.210Z"
   },
   {
    "duration": 76,
    "start_time": "2022-08-15T23:23:29.844Z"
   },
   {
    "duration": 65,
    "start_time": "2022-08-15T23:23:53.013Z"
   },
   {
    "duration": 42,
    "start_time": "2022-08-15T23:23:58.695Z"
   },
   {
    "duration": 27,
    "start_time": "2022-08-15T23:24:47.826Z"
   },
   {
    "duration": 27,
    "start_time": "2022-08-15T23:28:58.363Z"
   },
   {
    "duration": 6,
    "start_time": "2022-08-15T23:30:19.963Z"
   },
   {
    "duration": 26,
    "start_time": "2022-08-15T23:30:28.250Z"
   },
   {
    "duration": 112,
    "start_time": "2022-08-16T00:05:31.996Z"
   },
   {
    "duration": 100,
    "start_time": "2022-08-16T00:06:48.702Z"
   },
   {
    "duration": 4,
    "start_time": "2022-08-16T00:15:29.332Z"
   },
   {
    "duration": 4,
    "start_time": "2022-08-16T00:16:38.236Z"
   },
   {
    "duration": 3,
    "start_time": "2022-08-16T00:21:24.901Z"
   },
   {
    "duration": 3,
    "start_time": "2022-08-16T00:26:03.100Z"
   },
   {
    "duration": 6,
    "start_time": "2022-08-16T00:29:37.906Z"
   },
   {
    "duration": 6,
    "start_time": "2022-08-16T00:29:56.844Z"
   },
   {
    "duration": 117,
    "start_time": "2022-08-16T00:31:40.445Z"
   },
   {
    "duration": 7,
    "start_time": "2022-08-16T00:31:55.576Z"
   },
   {
    "duration": 3,
    "start_time": "2022-08-16T00:32:22.783Z"
   },
   {
    "duration": 238,
    "start_time": "2022-08-16T00:32:22.794Z"
   },
   {
    "duration": 5,
    "start_time": "2022-08-16T00:32:23.034Z"
   },
   {
    "duration": 14,
    "start_time": "2022-08-16T00:32:23.041Z"
   },
   {
    "duration": 24,
    "start_time": "2022-08-16T00:32:23.057Z"
   },
   {
    "duration": 7,
    "start_time": "2022-08-16T00:32:23.083Z"
   },
   {
    "duration": 3,
    "start_time": "2022-08-16T00:32:23.092Z"
   },
   {
    "duration": 39,
    "start_time": "2022-08-16T00:32:23.096Z"
   },
   {
    "duration": 30,
    "start_time": "2022-08-16T00:32:23.137Z"
   },
   {
    "duration": 19,
    "start_time": "2022-08-16T00:32:23.169Z"
   },
   {
    "duration": 67,
    "start_time": "2022-08-16T00:32:23.189Z"
   },
   {
    "duration": 65,
    "start_time": "2022-08-16T00:32:23.257Z"
   },
   {
    "duration": 59,
    "start_time": "2022-08-16T00:32:23.323Z"
   },
   {
    "duration": 43,
    "start_time": "2022-08-16T00:32:23.383Z"
   },
   {
    "duration": 3,
    "start_time": "2022-08-16T00:32:23.429Z"
   },
   {
    "duration": 30,
    "start_time": "2022-08-16T00:32:23.433Z"
   },
   {
    "duration": 6,
    "start_time": "2022-08-16T00:32:23.464Z"
   },
   {
    "duration": 32,
    "start_time": "2022-08-16T00:32:23.471Z"
   },
   {
    "duration": 26,
    "start_time": "2022-08-16T00:32:23.504Z"
   },
   {
    "duration": 4,
    "start_time": "2022-08-16T00:32:23.532Z"
   },
   {
    "duration": 6,
    "start_time": "2022-08-16T00:33:37.917Z"
   },
   {
    "duration": 6,
    "start_time": "2022-08-16T00:36:50.781Z"
   },
   {
    "duration": 7,
    "start_time": "2022-08-16T00:37:24.362Z"
   },
   {
    "duration": 126,
    "start_time": "2022-08-16T00:37:28.221Z"
   },
   {
    "duration": 4,
    "start_time": "2022-08-16T00:37:35.770Z"
   },
   {
    "duration": 7,
    "start_time": "2022-08-16T00:37:43.410Z"
   },
   {
    "duration": 108,
    "start_time": "2022-08-16T00:38:13.951Z"
   },
   {
    "duration": 3,
    "start_time": "2022-08-16T00:38:57.697Z"
   },
   {
    "duration": 15,
    "start_time": "2022-08-16T00:39:02.077Z"
   },
   {
    "duration": 303,
    "start_time": "2022-08-16T00:40:37.388Z"
   },
   {
    "duration": 12,
    "start_time": "2022-08-16T00:40:43.488Z"
   },
   {
    "duration": 9,
    "start_time": "2022-08-16T00:41:46.053Z"
   },
   {
    "duration": 13,
    "start_time": "2022-08-16T00:42:10.665Z"
   },
   {
    "duration": 13,
    "start_time": "2022-08-16T00:43:01.253Z"
   },
   {
    "duration": 14,
    "start_time": "2022-08-16T00:43:42.743Z"
   },
   {
    "duration": 14,
    "start_time": "2022-08-16T00:44:14.950Z"
   },
   {
    "duration": 2,
    "start_time": "2022-08-16T00:44:32.263Z"
   },
   {
    "duration": 237,
    "start_time": "2022-08-16T00:44:32.269Z"
   },
   {
    "duration": 6,
    "start_time": "2022-08-16T00:44:32.507Z"
   },
   {
    "duration": 7,
    "start_time": "2022-08-16T00:44:32.514Z"
   },
   {
    "duration": 34,
    "start_time": "2022-08-16T00:44:32.522Z"
   },
   {
    "duration": 6,
    "start_time": "2022-08-16T00:44:32.558Z"
   },
   {
    "duration": 2,
    "start_time": "2022-08-16T00:44:32.566Z"
   },
   {
    "duration": 34,
    "start_time": "2022-08-16T00:44:32.570Z"
   },
   {
    "duration": 14,
    "start_time": "2022-08-16T00:44:32.605Z"
   },
   {
    "duration": 38,
    "start_time": "2022-08-16T00:44:32.620Z"
   },
   {
    "duration": 50,
    "start_time": "2022-08-16T00:44:32.660Z"
   },
   {
    "duration": 71,
    "start_time": "2022-08-16T00:44:32.712Z"
   },
   {
    "duration": 47,
    "start_time": "2022-08-16T00:44:32.785Z"
   },
   {
    "duration": 55,
    "start_time": "2022-08-16T00:44:32.833Z"
   },
   {
    "duration": 3,
    "start_time": "2022-08-16T00:44:32.890Z"
   },
   {
    "duration": 14,
    "start_time": "2022-08-16T00:44:32.895Z"
   },
   {
    "duration": 6,
    "start_time": "2022-08-16T00:44:32.910Z"
   },
   {
    "duration": 47,
    "start_time": "2022-08-16T00:44:32.917Z"
   },
   {
    "duration": 27,
    "start_time": "2022-08-16T00:44:32.966Z"
   },
   {
    "duration": 4,
    "start_time": "2022-08-16T00:44:32.995Z"
   },
   {
    "duration": 18,
    "start_time": "2022-08-16T00:44:33.001Z"
   },
   {
    "duration": 11,
    "start_time": "2022-08-16T00:44:33.021Z"
   },
   {
    "duration": 31,
    "start_time": "2022-08-16T00:44:33.033Z"
   },
   {
    "duration": 12,
    "start_time": "2022-08-16T00:44:33.065Z"
   },
   {
    "duration": 13,
    "start_time": "2022-08-16T00:44:33.078Z"
   },
   {
    "duration": 11,
    "start_time": "2022-08-16T00:44:33.092Z"
   },
   {
    "duration": 6,
    "start_time": "2022-08-16T00:49:42.171Z"
   },
   {
    "duration": 6,
    "start_time": "2022-08-16T00:50:02.789Z"
   },
   {
    "duration": 8,
    "start_time": "2022-08-16T00:50:24.320Z"
   },
   {
    "duration": 6,
    "start_time": "2022-08-16T00:50:45.732Z"
   },
   {
    "duration": 14,
    "start_time": "2022-08-16T00:51:30.041Z"
   },
   {
    "duration": 2,
    "start_time": "2022-08-16T01:08:38.921Z"
   },
   {
    "duration": 10,
    "start_time": "2022-08-16T01:10:01.786Z"
   },
   {
    "duration": 2,
    "start_time": "2022-08-16T01:14:21.478Z"
   },
   {
    "duration": 3,
    "start_time": "2022-08-16T01:14:25.628Z"
   },
   {
    "duration": 2,
    "start_time": "2022-08-16T01:14:40.019Z"
   },
   {
    "duration": 2,
    "start_time": "2022-08-16T01:20:11.403Z"
   },
   {
    "duration": 4,
    "start_time": "2022-08-16T01:20:57.389Z"
   },
   {
    "duration": 4,
    "start_time": "2022-08-16T01:21:08.982Z"
   },
   {
    "duration": 4,
    "start_time": "2022-08-16T01:21:25.695Z"
   },
   {
    "duration": 4,
    "start_time": "2022-08-16T01:21:46.011Z"
   },
   {
    "duration": 6,
    "start_time": "2022-08-16T02:12:22.799Z"
   },
   {
    "duration": 7,
    "start_time": "2022-08-16T02:12:49.571Z"
   },
   {
    "duration": 15,
    "start_time": "2022-08-16T02:14:02.224Z"
   },
   {
    "duration": 12,
    "start_time": "2022-08-16T02:15:01.701Z"
   },
   {
    "duration": 131,
    "start_time": "2022-08-16T03:05:32.410Z"
   },
   {
    "duration": 106,
    "start_time": "2022-08-16T03:08:52.522Z"
   },
   {
    "duration": 119,
    "start_time": "2022-08-16T03:09:06.646Z"
   },
   {
    "duration": 4,
    "start_time": "2022-08-16T03:10:28.166Z"
   },
   {
    "duration": 4,
    "start_time": "2022-08-16T03:10:31.717Z"
   },
   {
    "duration": 2,
    "start_time": "2022-08-16T03:12:55.898Z"
   },
   {
    "duration": 242,
    "start_time": "2022-08-16T03:12:55.902Z"
   },
   {
    "duration": 10,
    "start_time": "2022-08-16T03:12:56.146Z"
   },
   {
    "duration": 2,
    "start_time": "2022-08-16T03:12:56.158Z"
   },
   {
    "duration": 25,
    "start_time": "2022-08-16T03:12:56.162Z"
   },
   {
    "duration": 7,
    "start_time": "2022-08-16T03:12:56.188Z"
   },
   {
    "duration": 7,
    "start_time": "2022-08-16T03:12:56.196Z"
   },
   {
    "duration": 56,
    "start_time": "2022-08-16T03:12:56.204Z"
   },
   {
    "duration": 14,
    "start_time": "2022-08-16T03:12:56.261Z"
   },
   {
    "duration": 18,
    "start_time": "2022-08-16T03:12:56.277Z"
   },
   {
    "duration": 62,
    "start_time": "2022-08-16T03:12:56.297Z"
   },
   {
    "duration": 62,
    "start_time": "2022-08-16T03:12:56.361Z"
   },
   {
    "duration": 64,
    "start_time": "2022-08-16T03:12:56.438Z"
   },
   {
    "duration": 52,
    "start_time": "2022-08-16T03:12:56.503Z"
   },
   {
    "duration": 3,
    "start_time": "2022-08-16T03:12:56.556Z"
   },
   {
    "duration": 14,
    "start_time": "2022-08-16T03:12:56.560Z"
   },
   {
    "duration": 6,
    "start_time": "2022-08-16T03:12:56.575Z"
   },
   {
    "duration": 29,
    "start_time": "2022-08-16T03:12:56.582Z"
   },
   {
    "duration": 43,
    "start_time": "2022-08-16T03:12:56.612Z"
   },
   {
    "duration": 3,
    "start_time": "2022-08-16T03:12:56.657Z"
   },
   {
    "duration": 21,
    "start_time": "2022-08-16T03:12:56.661Z"
   },
   {
    "duration": 13,
    "start_time": "2022-08-16T03:12:56.683Z"
   },
   {
    "duration": 12,
    "start_time": "2022-08-16T03:12:56.697Z"
   },
   {
    "duration": 16,
    "start_time": "2022-08-16T03:12:56.710Z"
   },
   {
    "duration": 39,
    "start_time": "2022-08-16T03:12:56.728Z"
   },
   {
    "duration": 15,
    "start_time": "2022-08-16T03:12:56.769Z"
   },
   {
    "duration": 6,
    "start_time": "2022-08-16T03:12:56.786Z"
   },
   {
    "duration": 16,
    "start_time": "2022-08-16T03:12:56.793Z"
   },
   {
    "duration": 20,
    "start_time": "2022-08-16T03:12:56.811Z"
   },
   {
    "duration": 28,
    "start_time": "2022-08-16T03:12:56.833Z"
   },
   {
    "duration": 4,
    "start_time": "2022-08-16T03:12:56.862Z"
   },
   {
    "duration": 6,
    "start_time": "2022-08-16T03:30:39.823Z"
   },
   {
    "duration": 6,
    "start_time": "2022-08-16T03:30:42.705Z"
   },
   {
    "duration": 7,
    "start_time": "2022-08-16T03:31:54.657Z"
   },
   {
    "duration": 7,
    "start_time": "2022-08-16T03:32:14.674Z"
   },
   {
    "duration": 6,
    "start_time": "2022-08-16T03:34:31.608Z"
   },
   {
    "duration": 7,
    "start_time": "2022-08-16T03:39:21.625Z"
   },
   {
    "duration": 7,
    "start_time": "2022-08-16T03:39:53.879Z"
   },
   {
    "duration": 2,
    "start_time": "2022-08-16T03:40:01.851Z"
   },
   {
    "duration": 251,
    "start_time": "2022-08-16T03:40:01.855Z"
   },
   {
    "duration": 6,
    "start_time": "2022-08-16T03:40:02.108Z"
   },
   {
    "duration": 10,
    "start_time": "2022-08-16T03:40:02.117Z"
   },
   {
    "duration": 33,
    "start_time": "2022-08-16T03:40:02.129Z"
   },
   {
    "duration": 12,
    "start_time": "2022-08-16T03:40:02.163Z"
   },
   {
    "duration": 11,
    "start_time": "2022-08-16T03:40:02.177Z"
   },
   {
    "duration": 58,
    "start_time": "2022-08-16T03:40:02.189Z"
   },
   {
    "duration": 15,
    "start_time": "2022-08-16T03:40:02.250Z"
   },
   {
    "duration": 36,
    "start_time": "2022-08-16T03:40:02.266Z"
   },
   {
    "duration": 105,
    "start_time": "2022-08-16T03:40:02.304Z"
   },
   {
    "duration": 65,
    "start_time": "2022-08-16T03:40:02.411Z"
   },
   {
    "duration": 52,
    "start_time": "2022-08-16T03:40:02.478Z"
   },
   {
    "duration": 56,
    "start_time": "2022-08-16T03:40:02.532Z"
   },
   {
    "duration": 3,
    "start_time": "2022-08-16T03:40:02.589Z"
   },
   {
    "duration": 20,
    "start_time": "2022-08-16T03:40:02.593Z"
   },
   {
    "duration": 6,
    "start_time": "2022-08-16T03:40:02.614Z"
   },
   {
    "duration": 37,
    "start_time": "2022-08-16T03:40:02.622Z"
   },
   {
    "duration": 25,
    "start_time": "2022-08-16T03:40:02.660Z"
   },
   {
    "duration": 3,
    "start_time": "2022-08-16T03:40:02.687Z"
   },
   {
    "duration": 26,
    "start_time": "2022-08-16T03:40:02.692Z"
   },
   {
    "duration": 12,
    "start_time": "2022-08-16T03:40:02.720Z"
   },
   {
    "duration": 28,
    "start_time": "2022-08-16T03:40:02.734Z"
   },
   {
    "duration": 14,
    "start_time": "2022-08-16T03:40:02.765Z"
   },
   {
    "duration": 16,
    "start_time": "2022-08-16T03:40:02.781Z"
   },
   {
    "duration": 12,
    "start_time": "2022-08-16T03:40:02.798Z"
   },
   {
    "duration": 5,
    "start_time": "2022-08-16T03:40:02.811Z"
   },
   {
    "duration": 8,
    "start_time": "2022-08-16T03:40:02.818Z"
   },
   {
    "duration": 31,
    "start_time": "2022-08-16T03:40:02.828Z"
   },
   {
    "duration": 16,
    "start_time": "2022-08-16T03:40:02.860Z"
   },
   {
    "duration": 6,
    "start_time": "2022-08-16T03:40:06.101Z"
   },
   {
    "duration": 7,
    "start_time": "2022-08-16T03:43:19.858Z"
   },
   {
    "duration": 9,
    "start_time": "2022-08-16T18:37:43.540Z"
   },
   {
    "duration": 41,
    "start_time": "2022-08-16T18:37:48.925Z"
   },
   {
    "duration": 389,
    "start_time": "2022-08-16T18:38:25.012Z"
   },
   {
    "duration": 336,
    "start_time": "2022-08-16T18:38:25.403Z"
   },
   {
    "duration": 6,
    "start_time": "2022-08-16T18:38:25.741Z"
   },
   {
    "duration": 8,
    "start_time": "2022-08-16T18:38:25.749Z"
   },
   {
    "duration": 41,
    "start_time": "2022-08-16T18:38:25.758Z"
   },
   {
    "duration": 13,
    "start_time": "2022-08-16T18:38:25.801Z"
   },
   {
    "duration": 6,
    "start_time": "2022-08-16T18:38:25.816Z"
   },
   {
    "duration": 63,
    "start_time": "2022-08-16T18:38:25.824Z"
   },
   {
    "duration": 17,
    "start_time": "2022-08-16T18:38:25.888Z"
   },
   {
    "duration": 43,
    "start_time": "2022-08-16T18:38:25.910Z"
   },
   {
    "duration": 114,
    "start_time": "2022-08-16T18:38:25.955Z"
   },
   {
    "duration": 100,
    "start_time": "2022-08-16T18:38:26.071Z"
   },
   {
    "duration": 84,
    "start_time": "2022-08-16T18:38:26.172Z"
   },
   {
    "duration": 98,
    "start_time": "2022-08-16T18:38:26.259Z"
   },
   {
    "duration": 4,
    "start_time": "2022-08-16T18:38:26.359Z"
   },
   {
    "duration": 39,
    "start_time": "2022-08-16T18:38:26.365Z"
   },
   {
    "duration": 31,
    "start_time": "2022-08-16T18:38:26.407Z"
   },
   {
    "duration": 54,
    "start_time": "2022-08-16T18:38:26.440Z"
   },
   {
    "duration": 51,
    "start_time": "2022-08-16T18:38:26.497Z"
   },
   {
    "duration": 4,
    "start_time": "2022-08-16T18:38:26.550Z"
   },
   {
    "duration": 40,
    "start_time": "2022-08-16T18:38:26.556Z"
   },
   {
    "duration": 15,
    "start_time": "2022-08-16T18:38:26.598Z"
   },
   {
    "duration": 20,
    "start_time": "2022-08-16T18:38:26.615Z"
   },
   {
    "duration": 19,
    "start_time": "2022-08-16T18:38:26.637Z"
   },
   {
    "duration": 37,
    "start_time": "2022-08-16T18:38:26.658Z"
   },
   {
    "duration": 21,
    "start_time": "2022-08-16T18:38:26.697Z"
   },
   {
    "duration": 8,
    "start_time": "2022-08-16T18:38:26.721Z"
   },
   {
    "duration": 10,
    "start_time": "2022-08-16T18:38:26.733Z"
   },
   {
    "duration": 42,
    "start_time": "2022-08-16T18:38:26.745Z"
   },
   {
    "duration": 17,
    "start_time": "2022-08-16T18:38:26.788Z"
   },
   {
    "duration": 7,
    "start_time": "2022-08-16T18:38:26.807Z"
   },
   {
    "duration": 1555,
    "start_time": "2022-08-16T18:38:30.037Z"
   },
   {
    "duration": 5,
    "start_time": "2022-08-16T18:43:33.096Z"
   },
   {
    "duration": 1349,
    "start_time": "2022-08-16T18:43:43.545Z"
   },
   {
    "duration": 1321,
    "start_time": "2022-08-16T18:44:12.439Z"
   },
   {
    "duration": 4,
    "start_time": "2022-08-16T18:59:32.542Z"
   },
   {
    "duration": 39,
    "start_time": "2022-08-16T18:59:38.862Z"
   },
   {
    "duration": 10,
    "start_time": "2022-08-16T19:01:19.693Z"
   },
   {
    "duration": 6,
    "start_time": "2022-08-16T21:21:05.759Z"
   },
   {
    "duration": 54,
    "start_time": "2022-08-16T21:23:27.009Z"
   },
   {
    "duration": 5,
    "start_time": "2022-08-16T21:24:14.631Z"
   },
   {
    "duration": 50,
    "start_time": "2022-08-16T21:24:20.711Z"
   },
   {
    "duration": 153,
    "start_time": "2022-08-16T23:08:58.961Z"
   },
   {
    "duration": 87,
    "start_time": "2022-08-16T23:09:15.695Z"
   },
   {
    "duration": 102,
    "start_time": "2022-08-16T23:09:36.341Z"
   },
   {
    "duration": 131,
    "start_time": "2022-08-16T23:18:12.821Z"
   },
   {
    "duration": 126,
    "start_time": "2022-08-16T23:19:26.262Z"
   },
   {
    "duration": 100,
    "start_time": "2022-08-16T23:25:45.659Z"
   },
   {
    "duration": 81,
    "start_time": "2022-08-16T23:26:11.377Z"
   },
   {
    "duration": 7,
    "start_time": "2022-08-16T23:26:49.890Z"
   },
   {
    "duration": 128,
    "start_time": "2022-08-16T23:28:22.861Z"
   },
   {
    "duration": 3,
    "start_time": "2022-08-16T23:30:07.572Z"
   },
   {
    "duration": 5,
    "start_time": "2022-08-16T23:30:12.958Z"
   },
   {
    "duration": 98,
    "start_time": "2022-08-16T23:30:54.261Z"
   },
   {
    "duration": 6,
    "start_time": "2022-08-16T23:32:28.486Z"
   },
   {
    "duration": 6,
    "start_time": "2022-08-16T23:32:58.876Z"
   },
   {
    "duration": 6,
    "start_time": "2022-08-16T23:33:13.558Z"
   },
   {
    "duration": 4,
    "start_time": "2022-08-16T23:34:58.256Z"
   },
   {
    "duration": 6,
    "start_time": "2022-08-16T23:35:04.817Z"
   },
   {
    "duration": 6,
    "start_time": "2022-08-16T23:36:58.204Z"
   },
   {
    "duration": 6,
    "start_time": "2022-08-16T23:37:25.612Z"
   },
   {
    "duration": 7,
    "start_time": "2022-08-16T23:38:21.999Z"
   },
   {
    "duration": 7,
    "start_time": "2022-08-16T23:41:33.909Z"
   },
   {
    "duration": 7,
    "start_time": "2022-08-16T23:42:51.411Z"
   },
   {
    "duration": 6,
    "start_time": "2022-08-16T23:43:06.414Z"
   },
   {
    "duration": 6,
    "start_time": "2022-08-16T23:43:49.402Z"
   },
   {
    "duration": 341,
    "start_time": "2022-08-16T23:44:03.851Z"
   },
   {
    "duration": 338,
    "start_time": "2022-08-16T23:44:04.195Z"
   },
   {
    "duration": 7,
    "start_time": "2022-08-16T23:44:04.535Z"
   },
   {
    "duration": 6,
    "start_time": "2022-08-16T23:44:04.544Z"
   },
   {
    "duration": 28,
    "start_time": "2022-08-16T23:44:04.551Z"
   },
   {
    "duration": 29,
    "start_time": "2022-08-16T23:44:04.581Z"
   },
   {
    "duration": 7,
    "start_time": "2022-08-16T23:44:04.612Z"
   },
   {
    "duration": 45,
    "start_time": "2022-08-16T23:44:04.621Z"
   },
   {
    "duration": 16,
    "start_time": "2022-08-16T23:44:04.668Z"
   },
   {
    "duration": 23,
    "start_time": "2022-08-16T23:44:04.701Z"
   },
   {
    "duration": 78,
    "start_time": "2022-08-16T23:44:04.726Z"
   },
   {
    "duration": 95,
    "start_time": "2022-08-16T23:44:04.806Z"
   },
   {
    "duration": 61,
    "start_time": "2022-08-16T23:44:04.902Z"
   },
   {
    "duration": 68,
    "start_time": "2022-08-16T23:44:04.964Z"
   },
   {
    "duration": 3,
    "start_time": "2022-08-16T23:44:05.034Z"
   },
   {
    "duration": 21,
    "start_time": "2022-08-16T23:44:05.039Z"
   },
   {
    "duration": 9,
    "start_time": "2022-08-16T23:44:05.062Z"
   },
   {
    "duration": 56,
    "start_time": "2022-08-16T23:44:05.073Z"
   },
   {
    "duration": 34,
    "start_time": "2022-08-16T23:44:05.131Z"
   },
   {
    "duration": 4,
    "start_time": "2022-08-16T23:44:05.167Z"
   },
   {
    "duration": 39,
    "start_time": "2022-08-16T23:44:05.174Z"
   },
   {
    "duration": 15,
    "start_time": "2022-08-16T23:44:05.216Z"
   },
   {
    "duration": 16,
    "start_time": "2022-08-16T23:44:05.233Z"
   },
   {
    "duration": 20,
    "start_time": "2022-08-16T23:44:05.251Z"
   },
   {
    "duration": 18,
    "start_time": "2022-08-16T23:44:05.300Z"
   },
   {
    "duration": 15,
    "start_time": "2022-08-16T23:44:05.320Z"
   },
   {
    "duration": 5,
    "start_time": "2022-08-16T23:44:05.338Z"
   },
   {
    "duration": 9,
    "start_time": "2022-08-16T23:44:05.347Z"
   },
   {
    "duration": 16,
    "start_time": "2022-08-16T23:44:10.593Z"
   },
   {
    "duration": 19,
    "start_time": "2022-08-16T23:44:33.914Z"
   },
   {
    "duration": 3,
    "start_time": "2022-08-16T23:44:40.136Z"
   },
   {
    "duration": 10,
    "start_time": "2022-08-16T23:44:43.412Z"
   },
   {
    "duration": 41,
    "start_time": "2022-08-16T23:45:07.931Z"
   },
   {
    "duration": 8,
    "start_time": "2022-08-16T23:45:29.135Z"
   },
   {
    "duration": 3,
    "start_time": "2022-08-16T23:53:05.079Z"
   },
   {
    "duration": 7,
    "start_time": "2022-08-16T23:53:22.787Z"
   },
   {
    "duration": 7,
    "start_time": "2022-08-16T23:54:52.482Z"
   },
   {
    "duration": 4,
    "start_time": "2022-08-17T00:10:24.860Z"
   },
   {
    "duration": 7,
    "start_time": "2022-08-17T00:10:28.950Z"
   },
   {
    "duration": 7,
    "start_time": "2022-08-17T00:10:41.176Z"
   },
   {
    "duration": 7,
    "start_time": "2022-08-17T00:10:45.281Z"
   },
   {
    "duration": 8,
    "start_time": "2022-08-17T00:10:50.244Z"
   },
   {
    "duration": 26,
    "start_time": "2022-08-17T00:14:42.876Z"
   },
   {
    "duration": 48,
    "start_time": "2022-08-17T00:14:56.070Z"
   },
   {
    "duration": 27,
    "start_time": "2022-08-17T00:15:18.299Z"
   },
   {
    "duration": 6,
    "start_time": "2022-08-17T00:19:17.197Z"
   },
   {
    "duration": 8,
    "start_time": "2022-08-17T00:19:33.163Z"
   },
   {
    "duration": 33,
    "start_time": "2022-08-17T00:19:47.706Z"
   },
   {
    "duration": 27,
    "start_time": "2022-08-17T00:20:14.203Z"
   },
   {
    "duration": 21,
    "start_time": "2022-08-17T00:21:23.759Z"
   },
   {
    "duration": 6,
    "start_time": "2022-08-17T00:22:16.404Z"
   },
   {
    "duration": 27,
    "start_time": "2022-08-17T00:34:47.697Z"
   },
   {
    "duration": 7,
    "start_time": "2022-08-17T00:45:56.086Z"
   },
   {
    "duration": 7,
    "start_time": "2022-08-17T00:46:13.079Z"
   },
   {
    "duration": 27,
    "start_time": "2022-08-17T00:47:47.216Z"
   },
   {
    "duration": 28,
    "start_time": "2022-08-17T00:48:12.394Z"
   },
   {
    "duration": 31,
    "start_time": "2022-08-17T00:56:31.548Z"
   },
   {
    "duration": 27,
    "start_time": "2022-08-17T00:58:04.183Z"
   },
   {
    "duration": 40,
    "start_time": "2022-08-17T01:00:06.009Z"
   },
   {
    "duration": 114,
    "start_time": "2022-08-17T01:00:50.579Z"
   },
   {
    "duration": 31,
    "start_time": "2022-08-17T01:01:06.186Z"
   },
   {
    "duration": 149,
    "start_time": "2022-08-17T01:01:26.835Z"
   },
   {
    "duration": 8,
    "start_time": "2022-08-17T01:01:38.967Z"
   },
   {
    "duration": 20,
    "start_time": "2022-08-17T01:02:15.734Z"
   },
   {
    "duration": 33,
    "start_time": "2022-08-17T01:03:02.831Z"
   },
   {
    "duration": 7,
    "start_time": "2022-08-17T01:11:51.637Z"
   },
   {
    "duration": 10,
    "start_time": "2022-08-17T01:12:40.569Z"
   },
   {
    "duration": 7,
    "start_time": "2022-08-17T01:13:26.588Z"
   },
   {
    "duration": 30,
    "start_time": "2022-08-17T01:13:38.597Z"
   },
   {
    "duration": 29,
    "start_time": "2022-08-17T01:14:50.203Z"
   },
   {
    "duration": 24,
    "start_time": "2022-08-17T01:15:02.175Z"
   },
   {
    "duration": 168,
    "start_time": "2022-08-17T01:15:41.514Z"
   },
   {
    "duration": 27,
    "start_time": "2022-08-17T01:22:44.511Z"
   },
   {
    "duration": 11,
    "start_time": "2022-08-17T01:25:15.856Z"
   },
   {
    "duration": 27,
    "start_time": "2022-08-17T01:25:25.358Z"
   },
   {
    "duration": 315,
    "start_time": "2022-08-17T01:26:25.766Z"
   },
   {
    "duration": 14,
    "start_time": "2022-08-17T01:28:14.649Z"
   },
   {
    "duration": 10,
    "start_time": "2022-08-17T01:28:59.910Z"
   },
   {
    "duration": 6,
    "start_time": "2022-08-17T01:29:19.184Z"
   },
   {
    "duration": 11,
    "start_time": "2022-08-17T01:31:56.076Z"
   },
   {
    "duration": 4,
    "start_time": "2022-08-17T01:32:02.815Z"
   },
   {
    "duration": 457,
    "start_time": "2022-08-17T15:13:30.114Z"
   },
   {
    "duration": 383,
    "start_time": "2022-08-17T15:13:30.574Z"
   },
   {
    "duration": 7,
    "start_time": "2022-08-17T15:13:30.959Z"
   },
   {
    "duration": 24,
    "start_time": "2022-08-17T15:13:30.968Z"
   },
   {
    "duration": 49,
    "start_time": "2022-08-17T15:13:30.994Z"
   },
   {
    "duration": 34,
    "start_time": "2022-08-17T15:13:31.045Z"
   },
   {
    "duration": 15,
    "start_time": "2022-08-17T15:13:31.080Z"
   },
   {
    "duration": 61,
    "start_time": "2022-08-17T15:13:31.097Z"
   },
   {
    "duration": 19,
    "start_time": "2022-08-17T15:13:31.161Z"
   },
   {
    "duration": 40,
    "start_time": "2022-08-17T15:13:31.182Z"
   },
   {
    "duration": 97,
    "start_time": "2022-08-17T15:13:31.224Z"
   },
   {
    "duration": 90,
    "start_time": "2022-08-17T15:13:31.323Z"
   },
   {
    "duration": 58,
    "start_time": "2022-08-17T15:13:31.414Z"
   },
   {
    "duration": 58,
    "start_time": "2022-08-17T15:13:31.476Z"
   },
   {
    "duration": 3,
    "start_time": "2022-08-17T15:13:31.536Z"
   },
   {
    "duration": 22,
    "start_time": "2022-08-17T15:13:31.541Z"
   },
   {
    "duration": 8,
    "start_time": "2022-08-17T15:13:31.565Z"
   },
   {
    "duration": 53,
    "start_time": "2022-08-17T15:13:31.574Z"
   },
   {
    "duration": 32,
    "start_time": "2022-08-17T15:13:31.629Z"
   },
   {
    "duration": 4,
    "start_time": "2022-08-17T15:13:31.663Z"
   },
   {
    "duration": 40,
    "start_time": "2022-08-17T15:13:31.669Z"
   },
   {
    "duration": 17,
    "start_time": "2022-08-17T15:13:31.712Z"
   },
   {
    "duration": 15,
    "start_time": "2022-08-17T15:13:31.731Z"
   },
   {
    "duration": 25,
    "start_time": "2022-08-17T15:13:31.749Z"
   },
   {
    "duration": 39,
    "start_time": "2022-08-17T15:13:31.776Z"
   },
   {
    "duration": 18,
    "start_time": "2022-08-17T15:13:31.817Z"
   },
   {
    "duration": 9,
    "start_time": "2022-08-17T15:13:31.837Z"
   },
   {
    "duration": 22,
    "start_time": "2022-08-17T15:13:31.848Z"
   },
   {
    "duration": 34,
    "start_time": "2022-08-17T15:13:31.872Z"
   },
   {
    "duration": 21,
    "start_time": "2022-08-17T15:13:31.907Z"
   },
   {
    "duration": 3,
    "start_time": "2022-08-17T15:13:31.930Z"
   },
   {
    "duration": 25,
    "start_time": "2022-08-17T15:13:31.935Z"
   },
   {
    "duration": 21,
    "start_time": "2022-08-17T15:13:31.962Z"
   },
   {
    "duration": 22,
    "start_time": "2022-08-17T15:13:31.985Z"
   },
   {
    "duration": 19,
    "start_time": "2022-08-17T15:13:32.009Z"
   },
   {
    "duration": 20,
    "start_time": "2022-08-17T15:13:32.030Z"
   },
   {
    "duration": 12,
    "start_time": "2022-08-17T15:13:32.053Z"
   },
   {
    "duration": 17,
    "start_time": "2022-08-17T15:13:32.066Z"
   },
   {
    "duration": 10,
    "start_time": "2022-08-17T15:13:32.085Z"
   },
   {
    "duration": 90,
    "start_time": "2022-08-17T15:18:12.080Z"
   },
   {
    "duration": 63,
    "start_time": "2022-08-17T23:06:38.117Z"
   },
   {
    "duration": 146,
    "start_time": "2022-08-17T23:06:48.136Z"
   },
   {
    "duration": 6,
    "start_time": "2022-08-17T23:06:57.832Z"
   },
   {
    "duration": 6,
    "start_time": "2022-08-17T23:07:14.997Z"
   },
   {
    "duration": 6,
    "start_time": "2022-08-17T23:07:23.675Z"
   },
   {
    "duration": 421,
    "start_time": "2022-08-17T23:07:31.674Z"
   },
   {
    "duration": 356,
    "start_time": "2022-08-17T23:07:35.881Z"
   },
   {
    "duration": 12,
    "start_time": "2022-08-17T23:07:40.565Z"
   },
   {
    "duration": 36,
    "start_time": "2022-08-17T23:14:42.196Z"
   },
   {
    "duration": 4,
    "start_time": "2022-08-17T23:14:47.725Z"
   },
   {
    "duration": 23,
    "start_time": "2022-08-17T23:16:11.545Z"
   },
   {
    "duration": 1717,
    "start_time": "2022-08-17T23:17:36.022Z"
   },
   {
    "duration": 10,
    "start_time": "2022-08-17T23:18:23.539Z"
   },
   {
    "duration": 4,
    "start_time": "2022-08-17T23:18:27.625Z"
   },
   {
    "duration": 24,
    "start_time": "2022-08-17T23:18:32.285Z"
   },
   {
    "duration": 20,
    "start_time": "2022-08-17T23:18:36.497Z"
   },
   {
    "duration": 24,
    "start_time": "2022-08-17T23:18:43.873Z"
   },
   {
    "duration": 63,
    "start_time": "2022-08-17T23:19:45.365Z"
   },
   {
    "duration": 76,
    "start_time": "2022-08-17T23:20:17.976Z"
   },
   {
    "duration": 57,
    "start_time": "2022-08-17T23:20:24.161Z"
   },
   {
    "duration": 48,
    "start_time": "2022-08-17T23:24:21.199Z"
   },
   {
    "duration": 3,
    "start_time": "2022-08-17T23:27:02.803Z"
   },
   {
    "duration": 7,
    "start_time": "2022-08-17T23:48:38.364Z"
   },
   {
    "duration": 176,
    "start_time": "2022-08-17T23:49:02.448Z"
   },
   {
    "duration": 9,
    "start_time": "2022-08-17T23:49:35.987Z"
   },
   {
    "duration": 36,
    "start_time": "2022-08-17T23:50:10.915Z"
   },
   {
    "duration": 12,
    "start_time": "2022-08-17T23:51:13.139Z"
   },
   {
    "duration": 12,
    "start_time": "2022-08-17T23:52:25.119Z"
   },
   {
    "duration": 4,
    "start_time": "2022-08-17T23:57:40.091Z"
   },
   {
    "duration": 9,
    "start_time": "2022-08-17T23:57:48.956Z"
   },
   {
    "duration": 7,
    "start_time": "2022-08-17T23:57:54.139Z"
   },
   {
    "duration": 7,
    "start_time": "2022-08-17T23:58:08.633Z"
   },
   {
    "duration": 8,
    "start_time": "2022-08-17T23:58:15.590Z"
   },
   {
    "duration": 7,
    "start_time": "2022-08-17T23:58:22.322Z"
   },
   {
    "duration": 4,
    "start_time": "2022-08-17T23:58:32.493Z"
   },
   {
    "duration": 9,
    "start_time": "2022-08-17T23:58:38.400Z"
   },
   {
    "duration": 7,
    "start_time": "2022-08-17T23:58:44.149Z"
   },
   {
    "duration": 15,
    "start_time": "2022-08-17T23:58:59.174Z"
   },
   {
    "duration": 14,
    "start_time": "2022-08-17T23:59:03.780Z"
   },
   {
    "duration": 4,
    "start_time": "2022-08-17T23:59:08.559Z"
   },
   {
    "duration": 7,
    "start_time": "2022-08-17T23:59:13.896Z"
   },
   {
    "duration": 8,
    "start_time": "2022-08-17T23:59:24.630Z"
   },
   {
    "duration": 8,
    "start_time": "2022-08-17T23:59:29.219Z"
   },
   {
    "duration": 7,
    "start_time": "2022-08-17T23:59:34.476Z"
   },
   {
    "duration": 11,
    "start_time": "2022-08-17T23:59:49.208Z"
   },
   {
    "duration": 5,
    "start_time": "2022-08-17T23:59:59.362Z"
   },
   {
    "duration": 10,
    "start_time": "2022-08-18T00:00:08.889Z"
   },
   {
    "duration": 4,
    "start_time": "2022-08-18T00:00:14.588Z"
   },
   {
    "duration": 591,
    "start_time": "2022-08-18T01:53:08.030Z"
   },
   {
    "duration": 682,
    "start_time": "2022-08-18T01:53:08.623Z"
   },
   {
    "duration": 12,
    "start_time": "2022-08-18T01:53:09.307Z"
   },
   {
    "duration": 84,
    "start_time": "2022-08-18T01:53:09.321Z"
   },
   {
    "duration": 3,
    "start_time": "2022-08-18T01:53:09.408Z"
   },
   {
    "duration": 11,
    "start_time": "2022-08-18T01:53:10.151Z"
   },
   {
    "duration": 38,
    "start_time": "2022-08-18T01:53:10.165Z"
   },
   {
    "duration": 24,
    "start_time": "2022-08-18T01:53:10.205Z"
   },
   {
    "duration": 80,
    "start_time": "2022-08-18T01:53:10.231Z"
   },
   {
    "duration": 27,
    "start_time": "2022-08-18T01:53:10.314Z"
   },
   {
    "duration": 184,
    "start_time": "2022-08-18T01:53:10.343Z"
   },
   {
    "duration": 179,
    "start_time": "2022-08-18T01:53:10.528Z"
   },
   {
    "duration": 116,
    "start_time": "2022-08-18T01:53:10.709Z"
   },
   {
    "duration": 92,
    "start_time": "2022-08-18T01:53:10.827Z"
   },
   {
    "duration": 3,
    "start_time": "2022-08-18T01:53:10.921Z"
   },
   {
    "duration": 17,
    "start_time": "2022-08-18T01:53:10.925Z"
   },
   {
    "duration": 66,
    "start_time": "2022-08-18T01:53:11.846Z"
   },
   {
    "duration": 13,
    "start_time": "2022-08-18T01:53:11.914Z"
   },
   {
    "duration": 13,
    "start_time": "2022-08-18T01:53:11.930Z"
   },
   {
    "duration": 5,
    "start_time": "2022-08-18T01:53:12.004Z"
   },
   {
    "duration": 20,
    "start_time": "2022-08-18T01:53:12.011Z"
   },
   {
    "duration": 73,
    "start_time": "2022-08-18T01:53:12.033Z"
   },
   {
    "duration": 14,
    "start_time": "2022-08-18T01:53:12.259Z"
   },
   {
    "duration": 38,
    "start_time": "2022-08-18T01:53:12.275Z"
   },
   {
    "duration": 19,
    "start_time": "2022-08-18T01:53:12.315Z"
   },
   {
    "duration": 72,
    "start_time": "2022-08-18T01:53:12.337Z"
   },
   {
    "duration": 5,
    "start_time": "2022-08-18T01:53:12.412Z"
   },
   {
    "duration": 13,
    "start_time": "2022-08-18T01:53:12.419Z"
   },
   {
    "duration": 81,
    "start_time": "2022-08-18T01:53:12.433Z"
   },
   {
    "duration": 15,
    "start_time": "2022-08-18T01:53:12.516Z"
   },
   {
    "duration": 4,
    "start_time": "2022-08-18T01:53:12.533Z"
   },
   {
    "duration": 69,
    "start_time": "2022-08-18T01:53:12.539Z"
   },
   {
    "duration": 10,
    "start_time": "2022-08-18T01:53:12.610Z"
   },
   {
    "duration": 9,
    "start_time": "2022-08-18T01:53:14.200Z"
   },
   {
    "duration": 25,
    "start_time": "2022-08-18T01:53:14.211Z"
   },
   {
    "duration": 69,
    "start_time": "2022-08-18T01:53:14.238Z"
   },
   {
    "duration": 4,
    "start_time": "2022-08-18T01:53:14.309Z"
   },
   {
    "duration": 9,
    "start_time": "2022-08-18T01:53:14.316Z"
   },
   {
    "duration": 3,
    "start_time": "2022-08-18T01:53:14.327Z"
   },
   {
    "duration": 23,
    "start_time": "2022-08-18T02:05:18.989Z"
   },
   {
    "duration": 501,
    "start_time": "2022-08-18T02:34:03.677Z"
   },
   {
    "duration": 745,
    "start_time": "2022-08-18T02:34:08.473Z"
   },
   {
    "duration": 18,
    "start_time": "2022-08-18T02:34:17.152Z"
   },
   {
    "duration": 45,
    "start_time": "2022-08-18T02:34:23.873Z"
   },
   {
    "duration": 4,
    "start_time": "2022-08-18T02:34:43.184Z"
   },
   {
    "duration": 4,
    "start_time": "2022-08-18T02:34:54.335Z"
   },
   {
    "duration": 5,
    "start_time": "2022-08-18T02:35:05.831Z"
   },
   {
    "duration": 47,
    "start_time": "2022-08-18T02:35:16.260Z"
   },
   {
    "duration": 5644,
    "start_time": "2022-08-18T02:35:22.409Z"
   },
   {
    "duration": 11756,
    "start_time": "2022-08-18T02:35:44.657Z"
   },
   {
    "duration": 0,
    "start_time": "2022-08-18T02:35:56.417Z"
   },
   {
    "duration": 72,
    "start_time": "2022-08-18T02:36:00.521Z"
   },
   {
    "duration": 35,
    "start_time": "2022-08-18T02:36:10.220Z"
   },
   {
    "duration": 103,
    "start_time": "2022-08-18T02:36:15.876Z"
   },
   {
    "duration": 97,
    "start_time": "2022-08-18T02:36:39.174Z"
   },
   {
    "duration": 82,
    "start_time": "2022-08-18T02:36:44.440Z"
   },
   {
    "duration": 43,
    "start_time": "2022-08-18T02:36:49.821Z"
   },
   {
    "duration": 3,
    "start_time": "2022-08-18T02:37:04.825Z"
   },
   {
    "duration": 24,
    "start_time": "2022-08-18T02:37:09.537Z"
   },
   {
    "duration": 47,
    "start_time": "2022-08-18T02:37:16.721Z"
   },
   {
    "duration": 15,
    "start_time": "2022-08-18T02:37:33.147Z"
   },
   {
    "duration": 12,
    "start_time": "2022-08-18T02:37:36.875Z"
   },
   {
    "duration": 80,
    "start_time": "2022-08-18T02:37:46.844Z"
   },
   {
    "duration": 13,
    "start_time": "2022-08-18T02:37:56.432Z"
   },
   {
    "duration": 45,
    "start_time": "2022-08-18T02:38:24.221Z"
   },
   {
    "duration": 4,
    "start_time": "2022-08-18T02:38:31.768Z"
   },
   {
    "duration": 21,
    "start_time": "2022-08-18T02:38:35.930Z"
   },
   {
    "duration": 74,
    "start_time": "2022-08-18T02:38:44.546Z"
   },
   {
    "duration": 12,
    "start_time": "2022-08-18T02:38:55.821Z"
   },
   {
    "duration": 13,
    "start_time": "2022-08-18T02:39:23.778Z"
   },
   {
    "duration": 6,
    "start_time": "2022-08-18T02:39:28.737Z"
   },
   {
    "duration": 27,
    "start_time": "2022-08-18T02:39:32.643Z"
   },
   {
    "duration": 32,
    "start_time": "2022-08-18T02:39:36.824Z"
   },
   {
    "duration": 27,
    "start_time": "2022-08-18T02:39:41.374Z"
   },
   {
    "duration": 88,
    "start_time": "2022-08-18T02:39:45.387Z"
   },
   {
    "duration": 73,
    "start_time": "2022-08-18T02:40:15.069Z"
   },
   {
    "duration": 25,
    "start_time": "2022-08-18T02:40:44.088Z"
   },
   {
    "duration": 27,
    "start_time": "2022-08-18T02:40:50.842Z"
   },
   {
    "duration": 96,
    "start_time": "2022-08-18T02:40:57.266Z"
   },
   {
    "duration": 83,
    "start_time": "2022-08-18T02:41:02.325Z"
   },
   {
    "duration": 95,
    "start_time": "2022-08-18T02:41:08.774Z"
   },
   {
    "duration": 58,
    "start_time": "2022-08-18T02:41:20.712Z"
   },
   {
    "duration": 4,
    "start_time": "2022-08-18T02:41:26.276Z"
   },
   {
    "duration": 16,
    "start_time": "2022-08-18T02:41:30.830Z"
   },
   {
    "duration": 68,
    "start_time": "2022-08-18T02:41:37.727Z"
   },
   {
    "duration": 15,
    "start_time": "2022-08-18T02:41:46.993Z"
   },
   {
    "duration": 15,
    "start_time": "2022-08-18T02:41:58.521Z"
   },
   {
    "duration": 5,
    "start_time": "2022-08-18T02:42:11.923Z"
   },
   {
    "duration": 29,
    "start_time": "2022-08-18T02:42:17.293Z"
   },
   {
    "duration": 27,
    "start_time": "2022-08-18T02:42:21.529Z"
   },
   {
    "duration": 18,
    "start_time": "2022-08-18T02:42:26.120Z"
   },
   {
    "duration": 23,
    "start_time": "2022-08-18T02:42:33.225Z"
   },
   {
    "duration": 28,
    "start_time": "2022-08-18T02:42:41.811Z"
   },
   {
    "duration": 5,
    "start_time": "2022-08-18T02:42:53.912Z"
   },
   {
    "duration": 7,
    "start_time": "2022-08-18T02:42:59.835Z"
   },
   {
    "duration": 20,
    "start_time": "2022-08-18T02:43:07.230Z"
   },
   {
    "duration": 16,
    "start_time": "2022-08-18T02:43:12.944Z"
   },
   {
    "duration": 4,
    "start_time": "2022-08-18T02:43:22.709Z"
   },
   {
    "duration": 11,
    "start_time": "2022-08-18T02:43:29.237Z"
   },
   {
    "duration": 19,
    "start_time": "2022-08-18T02:45:00.546Z"
   },
   {
    "duration": 8,
    "start_time": "2022-08-18T02:46:18.109Z"
   },
   {
    "duration": 15,
    "start_time": "2022-08-18T02:46:32.124Z"
   },
   {
    "duration": 19,
    "start_time": "2022-08-18T02:46:59.044Z"
   },
   {
    "duration": 12,
    "start_time": "2022-08-18T02:47:26.373Z"
   },
   {
    "duration": 11,
    "start_time": "2022-08-18T02:47:43.030Z"
   },
   {
    "duration": 5,
    "start_time": "2022-08-18T02:47:49.943Z"
   },
   {
    "duration": 12,
    "start_time": "2022-08-18T02:47:56.761Z"
   },
   {
    "duration": 7,
    "start_time": "2022-08-18T02:48:13.603Z"
   },
   {
    "duration": 5,
    "start_time": "2022-08-18T02:49:41.419Z"
   },
   {
    "duration": 19,
    "start_time": "2022-08-18T02:49:45.462Z"
   },
   {
    "duration": 14,
    "start_time": "2022-08-18T02:49:59.172Z"
   },
   {
    "duration": 28,
    "start_time": "2022-08-18T02:50:05.264Z"
   },
   {
    "duration": 13,
    "start_time": "2022-08-18T02:50:12.455Z"
   },
   {
    "duration": 29,
    "start_time": "2022-08-18T02:50:27.181Z"
   },
   {
    "duration": 6,
    "start_time": "2022-08-18T02:50:31.013Z"
   },
   {
    "duration": 10,
    "start_time": "2022-08-18T02:50:34.379Z"
   },
   {
    "duration": 7,
    "start_time": "2022-08-18T02:50:38.493Z"
   }
  ],
  "colab": {
   "collapsed_sections": [
    "E0vqbgi9ay0H",
    "VUC88oWjTJw2",
    "atZAxtq4_Zcu"
   ],
   "name": "EmptyFinalProject.ipynb\"",
   "provenance": []
  },
  "kernelspec": {
   "display_name": "Python 3 (ipykernel)",
   "language": "python",
   "name": "python3"
  },
  "language_info": {
   "codemirror_mode": {
    "name": "ipython",
    "version": 3
   },
   "file_extension": ".py",
   "mimetype": "text/x-python",
   "name": "python",
   "nbconvert_exporter": "python",
   "pygments_lexer": "ipython3",
   "version": "3.9.5"
  },
  "toc": {
   "base_numbering": 1,
   "nav_menu": {},
   "number_sections": true,
   "sideBar": true,
   "skip_h1_title": true,
   "title_cell": "Table of Contents",
   "title_sidebar": "Contents",
   "toc_cell": false,
   "toc_position": {
    "height": "calc(100% - 180px)",
    "left": "10px",
    "top": "150px",
    "width": "272px"
   },
   "toc_section_display": true,
   "toc_window_display": false
  }
 },
 "nbformat": 4,
 "nbformat_minor": 4
}
